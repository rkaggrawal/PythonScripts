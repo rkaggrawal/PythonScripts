{
 "cells": [
  {
   "cell_type": "code",
   "execution_count": 46,
   "metadata": {},
   "outputs": [
    {
     "name": "stdout",
     "output_type": "stream",
     "text": [
      "Eid\tEname\n",
      "--------------\n",
      "1001    rahul     \n",
      "1002     raj      \n",
      "1003   aggrawal   \n"
     ]
    }
   ],
   "source": [
    "import MySQLdb\n",
    "# print(dir(MySQLdb))\n",
    "# print(help(MySQLdb.connect))\n",
    "\n",
    "conn = MySQLdb.connect(host='localhost', database='test1', user='root', password='services')\n",
    "cursor = conn.cursor()\n",
    "str = \"select * from emp\"\n",
    "cursor.execute(str)\n",
    "# print(dir(cursor))\n",
    "# print(help(cursor.fetchmany))\n",
    "\n",
    "rows = cursor.fetchall()\n",
    "# print(rows)\n",
    "\n",
    "print(\"Eid\\tEname\" + \"\\n\" + \"-\"*14)\n",
    "for row in rows:\n",
    "    print(\"{}{:^14}\".format(row[0], row[1]))\n",
    "cursor.close()\n",
    "conn.close()"
   ]
  }
 ],
 "metadata": {
  "kernelspec": {
   "display_name": "Python 3",
   "language": "python",
   "name": "python3"
  },
  "language_info": {
   "codemirror_mode": {
    "name": "ipython",
    "version": 3
   },
   "file_extension": ".py",
   "mimetype": "text/x-python",
   "name": "python",
   "nbconvert_exporter": "python",
   "pygments_lexer": "ipython3",
   "version": "3.6.8"
  }
 },
 "nbformat": 4,
 "nbformat_minor": 4
}
