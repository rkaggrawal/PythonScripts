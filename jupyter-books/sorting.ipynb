{
 "cells": [
  {
   "cell_type": "markdown",
   "metadata": {},
   "source": [
    "## Bubble Sort"
   ]
  },
  {
   "cell_type": "code",
   "execution_count": 9,
   "metadata": {},
   "outputs": [
    {
     "name": "stdout",
     "output_type": "stream",
     "text": [
      "sorted list by bubble sort is - [3, 3, 6, 7, 8, 13]\n"
     ]
    }
   ],
   "source": [
    "def bubble_sort(list):\n",
    "    for i in range(len(list)):\n",
    "        for j in range(len(list)-i-1):\n",
    "            if list[j] > list[j+1]:\n",
    "                list[j], list[j+1] = list[j+1], list[j]\n",
    "    else:\n",
    "        print(\"sorted list by bubble sort is - {}\".format(list))\n",
    "\n",
    "list = [6, 8,3,13,7,3]\n",
    "bubble_sort(list)"
   ]
  },
  {
   "cell_type": "markdown",
   "metadata": {},
   "source": [
    "## Insertion Sort"
   ]
  },
  {
   "cell_type": "code",
   "execution_count": 8,
   "metadata": {},
   "outputs": [
    {
     "name": "stdout",
     "output_type": "stream",
     "text": [
      "[6, 8, 3, 13, 7, 3]-org-list\n",
      "[6, 8, 3, 13, 7, 3]\n",
      "[3, 6, 8, 13, 7, 3]\n",
      "[3, 6, 8, 13, 7, 3]\n",
      "[3, 6, 7, 8, 13, 3]\n",
      "[3, 3, 6, 7, 8, 13]\n",
      "sorted list by insertion sort is - [3, 3, 6, 7, 8, 13]\n"
     ]
    }
   ],
   "source": [
    "def insertion_sort(list):\n",
    "    print('{}-org-list'.format(list))\n",
    "    for i in range(1, len(list)):\n",
    "        for j in range(i, 0, -1):\n",
    "            if list[j-1] > list[j]:\n",
    "                list[j-1], list[j] = list[j], list[j-1]\n",
    "        else:\n",
    "            print(list)\n",
    "    else:\n",
    "        print(\"sorted list by insertion sort is - {}\".format(list))\n",
    "        \n",
    "list = [6, 8,3,13,7,3]\n",
    "insertion_sort(list)"
   ]
  },
  {
   "cell_type": "markdown",
   "metadata": {},
   "source": [
    "## Merge Sort"
   ]
  },
  {
   "cell_type": "code",
   "execution_count": 21,
   "metadata": {},
   "outputs": [
    {
     "name": "stdout",
     "output_type": "stream",
     "text": [
      "org list is [10, 5, 2, 8, 6]\n",
      "mid is 2\n",
      "mid is 1\n",
      "left is - [10]\n",
      "right is - [5]\n",
      "merged list is [5, 10]\n",
      "mid is 1\n",
      "mid is 1\n",
      "left is - [8]\n",
      "right is - [6]\n",
      "merged list is [6, 8]\n",
      "left is - [2]\n",
      "right is - [6, 8]\n",
      "merged list is [2, 6, 8]\n",
      "left is - [5, 10]\n",
      "right is - [2, 6, 8]\n",
      "merged list is [2, 5, 6, 8, 10]\n",
      "sorted list is [2, 5, 6, 8, 10]\n"
     ]
    }
   ],
   "source": [
    "def merge_sort(list):\n",
    "    if len(list) <=1:\n",
    "        return list\n",
    "    mid = int(len(list)/2)\n",
    "    print(\"mid is %d\" %mid)\n",
    "    left = merge_sort(list[:mid])\n",
    "    right = merge_sort(list[mid:])\n",
    "    print(\"left is - {}\".format(left))\n",
    "    print(\"right is - {}\".format(right))\n",
    "    result = merge(left, right)\n",
    "    print(\"merged list is {}\".format(result))\n",
    "    return result\n",
    "\n",
    "def merge(left, right):\n",
    "    result = []\n",
    "    left_pointer = right_pointer = 0\n",
    "    while left_pointer<len(left) and right_pointer<len(right):\n",
    "        if left[left_pointer] < right[right_pointer]:\n",
    "            result.append(left[left_pointer])\n",
    "            left_pointer+=1\n",
    "        else:\n",
    "            result.append(right[right_pointer])\n",
    "            right_pointer+=1\n",
    "    else:\n",
    "        result.extend(left[left_pointer:])\n",
    "        result.extend(right[right_pointer:])\n",
    "        return result\n",
    "    \n",
    "\n",
    "\n",
    "org_list = [10,5,2,8,6]\n",
    "print(\"org list is {}\".format(org_list))\n",
    "sorted_list = merge_sort(org_list)\n",
    "print(\"sorted list is {}\".format(sorted_list))"
   ]
  }
 ],
 "metadata": {
  "kernelspec": {
   "display_name": "Python 3",
   "language": "python",
   "name": "python3"
  },
  "language_info": {
   "codemirror_mode": {
    "name": "ipython",
    "version": 3
   },
   "file_extension": ".py",
   "mimetype": "text/x-python",
   "name": "python",
   "nbconvert_exporter": "python",
   "pygments_lexer": "ipython3",
   "version": "3.6.8"
  }
 },
 "nbformat": 4,
 "nbformat_minor": 4
}
