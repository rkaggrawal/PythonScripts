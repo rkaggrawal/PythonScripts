{
 "cells": [
  {
   "cell_type": "code",
   "execution_count": 63,
   "metadata": {},
   "outputs": [
    {
     "name": "stdout",
     "output_type": "stream",
     "text": [
      "['__class__', '__delattr__', '__dict__', '__dir__', '__doc__', '__eq__', '__format__', '__ge__', '__getattribute__', '__gt__', '__hash__', '__init__', '__init_subclass__', '__le__', '__lt__', '__module__', '__ne__', '__new__', '__reduce__', '__reduce_ex__', '__repr__', '__setattr__', '__sizeof__', '__str__', '__subclasshook__', '__weakref__', '_bootstrap', '_bootstrap_inner', '_delete', '_exc_info', '_initialized', '_reset_internal_locks', '_set_ident', '_set_tstate_lock', '_stop', '_wait_for_tstate_lock', 'daemon', 'getName', 'ident', 'isAlive', 'isDaemon', 'is_alive', 'join', 'name', 'run', 'setDaemon', 'setName', 'start']\n",
      "\n",
      " using current_thread\n",
      "<_MainThread(MainThread, started 20676)>\n",
      "MainThread\n",
      "\n",
      " using main_thread\n",
      "<_MainThread(MainThread, started 20676)>\n",
      "MainThread\n"
     ]
    }
   ],
   "source": [
    "import threading\n",
    "\n",
    "print(dir(threading.Thread))\n",
    "# help(threading.Thread.join)\n",
    "# help(threading.Thread.daemon)\n",
    "# help(threading.currentThread)\n",
    "# help(threading.current_thread)\n",
    "# print(dir(threading.current_thread()))\n",
    "\n",
    "print(\"\\n using current_thread\")\n",
    "print(threading.current_thread())\n",
    "print(threading.current_thread().getName())\n",
    "\n",
    "print(\"\\n using main_thread\")\n",
    "print(threading.main_thread())\n",
    "print(threading.main_thread().getName())"
   ]
  },
  {
   "cell_type": "code",
   "execution_count": 34,
   "metadata": {},
   "outputs": [
    {
     "name": "stdout",
     "output_type": "stream",
     "text": [
      "MainThread\n",
      "Hello Rahul\n",
      "\n",
      "MainThread\n",
      "\n",
      "Hello Rahul\n",
      "\n",
      "MainThread\n",
      "\n",
      "Hello Rahul\n",
      "\n",
      "MainThread\n",
      "\n",
      "Hello Rahul\n",
      "\n",
      "MainThread\n",
      "\n",
      "Hello Rahul\n",
      "\n",
      "\n"
     ]
    }
   ],
   "source": [
    "# Creating a thread without using a class\n",
    "\n",
    "from threading import *\n",
    "def display(str):\n",
    "    print('Hello {}\\n\\n'.format(str))\n",
    "\n",
    "# help(Thread)\n",
    "for i in range(5):\n",
    "    t = Thread(target=display, args=('Rahul',))\n",
    "    print(threading.current_thread().getName())\n",
    "    t.start()\n",
    "    "
   ]
  },
  {
   "cell_type": "code",
   "execution_count": 35,
   "metadata": {},
   "outputs": [
    {
     "name": "stdout",
     "output_type": "stream",
     "text": [
      "1\n",
      "2\n",
      "3\n",
      "4\n",
      "5\n"
     ]
    }
   ],
   "source": [
    "# Creating a thread by creating a sub class to Thread Class\n",
    "\n",
    "from threading import *\n",
    "\n",
    "class MyThread(Thread):\n",
    "    def run(self):\n",
    "        for i in range(1,6):\n",
    "            print(i)\n",
    "# create an instance of MyThread class\n",
    "t1 = MyThread()\n",
    "\n",
    "# start running the thread t1\n",
    "t1.start()\n",
    "\n",
    "# wait till thread completes execution\n",
    "t1.join()"
   ]
  },
  {
   "cell_type": "code",
   "execution_count": 59,
   "metadata": {},
   "outputs": [
    {
     "name": "stdout",
     "output_type": "stream",
     "text": [
      "Custom Thread\n",
      "My name is Rahul\n",
      "My name is Rahul\n",
      "My name is Rahul\n",
      "My name is Rahul\n",
      "My name is Rahul\n"
     ]
    }
   ],
   "source": [
    "from threading import *\n",
    "\n",
    "class MyThread(Thread):\n",
    "    def __init__(self,str):\n",
    "        Thread.__init__(self)\n",
    "        self.str = str\n",
    "        \n",
    "    def run(self):\n",
    "        for i in range(1,6):\n",
    "            print(self.str)\n",
    "\n",
    "# create an instance of MyThread class\n",
    "t1 = MyThread('My name is Rahul')\n",
    "\n",
    "# set thread name\n",
    "t1.setName('Custom Thread')\n",
    "\n",
    "# get thread name\n",
    "print(t1.getName())\n",
    "\n",
    "# start running the thread t1\n",
    "t1.start()\n",
    "\n",
    "# wait till thread completes execution\n",
    "t1.join()"
   ]
  },
  {
   "cell_type": "code",
   "execution_count": 32,
   "metadata": {},
   "outputs": [
    {
     "name": "stdout",
     "output_type": "stream",
     "text": [
      "Hello\n",
      "The args are:  5 6\n"
     ]
    }
   ],
   "source": [
    "# Creating a thread without making sub class to Thread Class\n",
    "\n",
    "from threading import *\n",
    "\n",
    "class MyThread:\n",
    "    def __init__(self,str):\n",
    "        self.str = str\n",
    "        \n",
    "    def display(self, x, y):\n",
    "        print(self.str)\n",
    "        print('The args are: ', x, y)\n",
    "\n",
    "obj = MyThread('Hello')\n",
    "t1 = Thread(target=obj.display, args=(5,6))\n",
    "\n",
    "t1.start()"
   ]
  },
  {
   "cell_type": "code",
   "execution_count": 58,
   "metadata": {},
   "outputs": [
    {
     "name": "stdout",
     "output_type": "stream",
     "text": [
      "\n",
      "available births are: 1\n",
      "1 bert allotted to First Person\n",
      "\n",
      "available births are: 1\n",
      "1 bert allotted to Second Person\n"
     ]
    }
   ],
   "source": [
    "# When you run this program, it will give random results. To resolve this issue I have used locks in next program.\n",
    "\n",
    "from threading import *\n",
    "import time\n",
    "\n",
    "class Railway:\n",
    "    # constructer\n",
    "    def __init__(self, available):\n",
    "        self.available = available\n",
    "        \n",
    "    def reserve_seat(self, wanted):\n",
    "        print(\"\\navailable births are: %d\" %self.available)\n",
    "        if (self.available >= wanted):\n",
    "            thread_name = current_thread().getName()\n",
    "            print(\"%d bert allotted to %s\" %(wanted, thread_name))\n",
    "            time.sleep(1.5)\n",
    "            self.available -= wanted\n",
    "        else:\n",
    "            # if available < wanted\n",
    "            print('sorry, no berths to allot')\n",
    "    \n",
    "    \n",
    "obj = Railway(1)\n",
    "\n",
    "# create 2 threads\n",
    "t1 = Thread(target=obj.reserve_seat, args=(1,))\n",
    "t2 = Thread(target=obj.reserve_seat, args=(1,))\n",
    "    \n",
    "# set threads name\n",
    "            \n",
    "t1.setName('First Person')\n",
    "t2.setName('Second Person')\n",
    "            \n",
    "# start threads\n",
    "t1.start()\n",
    "t2.start()\n",
    "    "
   ]
  },
  {
   "cell_type": "markdown",
   "metadata": {},
   "source": [
    "## Using Lock"
   ]
  },
  {
   "cell_type": "code",
   "execution_count": 64,
   "metadata": {},
   "outputs": [
    {
     "name": "stdout",
     "output_type": "stream",
     "text": [
      "Using lock mechanism\n",
      "\n",
      "available births are: 1\n",
      "1 bert allotted to First Person\n",
      "\n",
      "available births are: 0\n",
      "sorry, no berths to allot\n"
     ]
    }
   ],
   "source": [
    "# With locks\n",
    "from threading import *\n",
    "import time\n",
    "\n",
    "class Railway:\n",
    "    # constructer\n",
    "    def __init__(self, available):\n",
    "        print(\"Using lock mechanism\")\n",
    "        self.available = available\n",
    "        # create lock object\n",
    "        self.l = Lock()\n",
    "        \n",
    "    def reserve_seat(self, wanted):\n",
    "        # create lock\n",
    "        self.l.acquire()\n",
    "        print(\"\\navailable births are: %d\" %self.available)\n",
    "        if (self.available >= wanted):\n",
    "            thread_name = current_thread().getName()\n",
    "            print(\"%d bert allotted to %s\" %(wanted, thread_name))\n",
    "            time.sleep(1.5)\n",
    "            self.available -= wanted\n",
    "        else:\n",
    "            # if available < wanted\n",
    "            print('sorry, no berths to allot')\n",
    "        # release lock\n",
    "        self.l.release()\n",
    "    \n",
    "obj = Railway(1)\n",
    "\n",
    "# create 2 threads\n",
    "t1 = Thread(target=obj.reserve_seat, args=(1,))\n",
    "t2 = Thread(target=obj.reserve_seat, args=(1,))\n",
    "    \n",
    "# set threads name\n",
    "            \n",
    "t1.setName('First Person')\n",
    "t2.setName('Second Person')\n",
    "            \n",
    "# start threads\n",
    "t1.start()\n",
    "t2.start()"
   ]
  },
  {
   "cell_type": "markdown",
   "metadata": {},
   "source": [
    "## Using Semaphore"
   ]
  },
  {
   "cell_type": "code",
   "execution_count": 67,
   "metadata": {},
   "outputs": [
    {
     "name": "stdout",
     "output_type": "stream",
     "text": [
      "Using Semaphore mechanism\n",
      "\n",
      "available births are: 1\n",
      "1 berth allotted to First Person\n",
      "\n",
      "available births are: 0\n",
      "sorry, no berths to allot\n"
     ]
    }
   ],
   "source": [
    "# With Semaphore\n",
    "from threading import *\n",
    "import time\n",
    "\n",
    "class Railway:\n",
    "    # constructer\n",
    "    def __init__(self, available):\n",
    "        print(\"Using Semaphore mechanism\")\n",
    "        self.available = available\n",
    "        # create lock object, Default value is 1. Test it by updating value to 2.\n",
    "        self.l = Semaphore(1)\n",
    "        \n",
    "    def reserve_seat(self, wanted):\n",
    "        # create lock\n",
    "        self.l.acquire()\n",
    "        print(\"\\navailable births are: %d\" %self.available)\n",
    "        if (self.available >= wanted):\n",
    "            thread_name = current_thread().getName()\n",
    "            print(\"%d berth allotted to %s\" %(wanted, thread_name))\n",
    "            time.sleep(1.5)\n",
    "            self.available -= wanted\n",
    "        else:\n",
    "            # if available < wanted\n",
    "            print('sorry, no berths to allot')\n",
    "        # release lock\n",
    "        self.l.release()\n",
    "    \n",
    "obj = Railway(1)\n",
    "\n",
    "# create 2 threads\n",
    "t1 = Thread(target=obj.reserve_seat, args=(1,))\n",
    "t2 = Thread(target=obj.reserve_seat, args=(1,))\n",
    "    \n",
    "# set threads name\n",
    "            \n",
    "t1.setName('First Person')\n",
    "t2.setName('Second Person')\n",
    "            \n",
    "# start threads\n",
    "t1.start()\n",
    "t2.start()"
   ]
  },
  {
   "cell_type": "markdown",
   "metadata": {},
   "source": [
    "## Thread communication using sleep"
   ]
  },
  {
   "cell_type": "code",
   "execution_count": 78,
   "metadata": {},
   "outputs": [
    {
     "name": "stdout",
     "output_type": "stream",
     "text": [
      "Item produced 1\n",
      "Item produced 2\n",
      "Item produced 3\n",
      "Item produced 4\n",
      "Item produced 5\n",
      "Item produced 6\n",
      "Item produced 7\n",
      "Item produced 8\n",
      "Item produced 9\n",
      "Item produced 10\n",
      "All items produced\n",
      "All items consumed [1, 2, 3, 4, 5, 6, 7, 8, 9, 10]\n",
      "Total time taken by program is - 8.079317288410266\n"
     ]
    }
   ],
   "source": [
    "from threading import *\n",
    "from time import *\n",
    "\n",
    "class producer:\n",
    "    def __init__(self):\n",
    "        self.lst = []\n",
    "        self.dataprovider = False\n",
    "    def produce(self):\n",
    "        for i in range(1,11):\n",
    "            self.lst.append(i)\n",
    "            sleep(0.8)\n",
    "            print('Item produced {}'.format(i))\n",
    "        else:\n",
    "            print('All items produced')\n",
    "            self.dataprovider = True\n",
    "\n",
    "class consumer:\n",
    "    def __init__(self, prod):\n",
    "        self.prod = prod\n",
    "        \n",
    "    def consume(self):\n",
    "        while self.prod.dataprovider == False:\n",
    "            sleep(0.1)\n",
    "        else:\n",
    "            print('All items consumed {}'.format(self.prod.lst))\n",
    "            \n",
    "# create instances        \n",
    "p = producer()\n",
    "c = consumer(p)\n",
    "\n",
    "pstart = perf_counter()\n",
    "\n",
    "# create threads\n",
    "t1 = Thread(target=p.produce)\n",
    "t2 = Thread(target=c.consume)\n",
    "\n",
    "# start threads\n",
    "t1.start()\n",
    "t2.start()\n",
    "\n",
    "# wait until threads execution completed\n",
    "t1.join()\n",
    "t2.join()\n",
    "\n",
    "pend = perf_counter()\n",
    "\n",
    "\n",
    "print('Total time taken by program is - {}'.format(pend-pstart))"
   ]
  },
  {
   "cell_type": "markdown",
   "metadata": {},
   "source": [
    "## Thread communication using Queue"
   ]
  },
  {
   "cell_type": "code",
   "execution_count": 83,
   "metadata": {},
   "outputs": [
    {
     "name": "stdout",
     "output_type": "stream",
     "text": [
      "Producing item: 1\n",
      "Receiving item: 1\n",
      "Producing item: 2\n",
      "Receiving item: 2\n",
      "Producing item: 3\n",
      "Receiving item: 3\n",
      "Producing item: 4\n",
      "Receiving item: 4\n",
      "Producing item: 5\n",
      "Receiving item: 5\n",
      "Producing item: 6\n",
      "Receiving item: 6\n",
      "Producing item: 7\n",
      "Receiving item: 7\n",
      "Producing item: 8\n",
      "Receiving item: 8\n",
      "Producing item: 9\n",
      "Receiving item: 9\n",
      "Producing item: 10\n",
      "Receiving item: 10\n",
      "All items received\n",
      "All items produced\n",
      "Total time taken by program is - 5.023325060535626\n"
     ]
    }
   ],
   "source": [
    "from threading import *\n",
    "from time import *\n",
    "from queue import *\n",
    "\n",
    "class producer:\n",
    "    def __init__(self):\n",
    "        self.q = Queue()\n",
    "        \n",
    "    def produce(self):\n",
    "        for i in range(1,11):\n",
    "            print('Producing item: {}'.format(i))\n",
    "            self.q.put(i)\n",
    "            sleep(0.5)\n",
    "        else:\n",
    "            print('All items produced')\n",
    "    \n",
    "\n",
    "class consumer:\n",
    "    def __init__(self, prod):\n",
    "        self.prod = prod\n",
    "        \n",
    "    def consume(self):\n",
    "        for i in range(1,11):\n",
    "            print('Receiving item:',self.prod.q.get(i))\n",
    "        else:\n",
    "            print('All items received')\n",
    "            \n",
    "# create instances        \n",
    "p = producer()\n",
    "c = consumer(p)\n",
    "\n",
    "pstart = perf_counter()\n",
    "\n",
    "# create threads\n",
    "t1 = Thread(target=p.produce)\n",
    "t2 = Thread(target=c.consume)\n",
    "\n",
    "# start threads\n",
    "t1.start()\n",
    "t2.start()\n",
    "\n",
    "# wait until threads execution completed\n",
    "t1.join()\n",
    "t2.join()\n",
    "\n",
    "pend = perf_counter()\n",
    "\n",
    "\n",
    "print('Total time taken by program is - {}'.format(pend-pstart))"
   ]
  },
  {
   "cell_type": "markdown",
   "metadata": {},
   "source": [
    "## Daemon Threads"
   ]
  },
  {
   "cell_type": "code",
   "execution_count": 90,
   "metadata": {},
   "outputs": [
    {
     "name": "stdout",
     "output_type": "stream",
     "text": [
      "Normal thread:  1\n",
      "Time is:  Sun May 17 10:04:43 2020\n",
      "Time is:  Sun May 17 10:04:43 2020\n",
      "Normal thread:  2\n",
      "Time is:  Sun May 17 10:04:44 2020\n",
      "Time is:  Sun May 17 10:04:44 2020\n",
      "Normal thread:  3\n",
      "Time is:  Sun May 17 10:04:45 2020\n",
      "Time is:  Sun May 17 10:04:45 2020\n",
      "Time is:  Sun May 17 10:04:45 2020\n",
      "Time is:  Sun May 17 10:04:46 2020\n",
      "Time is:  Sun May 17 10:04:46 2020\n",
      "Time is:  Sun May 17 10:04:47 2020\n",
      "Time is:  Sun May 17 10:04:47 2020\n",
      "Time is:  Sun May 17 10:04:47 2020\n",
      "Time is:  Sun May 17 10:04:48 2020\n",
      "Time is:  Sun May 17 10:04:48 2020\n",
      "Time is:  Sun May 17 10:04:49 2020\n",
      "Time is:  Sun May 17 10:04:49 2020\n",
      "Time is:  Sun May 17 10:04:49 2020\n",
      "Time is:  Sun May 17 10:04:50 2020\n",
      "Time is:  Sun May 17 10:04:50 2020\n",
      "Time is:  Sun May 17 10:04:51 2020\n",
      "Time is:  Sun May 17 10:04:51 2020\n",
      "Time is:  Sun May 17 10:04:51 2020\n",
      "Time is:  Sun May 17 10:04:52 2020\n",
      "Time is:  Sun May 17 10:04:52 2020\n",
      "Time is:  Sun May 17 10:04:53 2020\n",
      "Time is:  Sun May 17 10:04:53 2020\n",
      "Time is:  Sun May 17 10:04:53 2020\n",
      "Time is:  Sun May 17 10:04:54 2020\n",
      "Time is:  Sun May 17 10:04:54 2020\n",
      "Time is:  Sun May 17 10:04:55 2020\n",
      "Time is:  Sun May 17 10:04:55 2020\n",
      "Time is:  Sun May 17 10:04:55 2020\n",
      "Time is:  Sun May 17 10:04:56 2020\n",
      "Time is:  Sun May 17 10:04:56 2020\n",
      "Time is:  Sun May 17 10:04:57 2020\n"
     ]
    }
   ],
   "source": [
    "from threading import *\n",
    "from time import *\n",
    "\n",
    "def display():\n",
    "    for i in range(1,4):\n",
    "        print('Normal thread: ', i)\n",
    "        sleep(1)\n",
    "\n",
    "def display_time():\n",
    "    while True:\n",
    "        print('Time is: ', ctime())\n",
    "        sleep(2)\n",
    "        \n",
    "# normal thread\n",
    "t =  Thread(target=display)\n",
    "t.start()\n",
    "t.join()\n",
    "\n",
    "# daemon thread\n",
    "d = Thread(target=display_time)\n",
    "d.daemon = True\n",
    "d.start()"
   ]
  }
 ],
 "metadata": {
  "kernelspec": {
   "display_name": "Python 3",
   "language": "python",
   "name": "python3"
  },
  "language_info": {
   "codemirror_mode": {
    "name": "ipython",
    "version": 3
   },
   "file_extension": ".py",
   "mimetype": "text/x-python",
   "name": "python",
   "nbconvert_exporter": "python",
   "pygments_lexer": "ipython3",
   "version": "3.6.8"
  }
 },
 "nbformat": 4,
 "nbformat_minor": 4
}
