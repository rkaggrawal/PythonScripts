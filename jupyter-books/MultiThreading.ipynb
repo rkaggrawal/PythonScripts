{
 "cells": [
  {
   "cell_type": "code",
   "execution_count": 14,
   "metadata": {},
   "outputs": [
    {
     "name": "stdout",
     "output_type": "stream",
     "text": [
      "<_MainThread(MainThread, started 19704)>\n",
      "MainThread\n"
     ]
    }
   ],
   "source": [
    "import threading\n",
    "\n",
    "# print(dir(threading))\n",
    "\n",
    "print(threading.current_thread())\n",
    "print(threading.current_thread().getName())"
   ]
  },
  {
   "cell_type": "code",
   "execution_count": 21,
   "metadata": {},
   "outputs": [
    {
     "name": "stdout",
     "output_type": "stream",
     "text": [
      "Hello Rahul\n",
      "Hello Rahul\n",
      "Hello Rahul\n",
      "Hello Rahul\n",
      "Hello Rahul\n"
     ]
    }
   ],
   "source": [
    "# Creating a thread without using a class\n",
    "\n",
    "from threading import *\n",
    "def display(str):\n",
    "    print('Hello {}'.format(str))\n",
    "\n",
    "# help(Thread)\n",
    "for i in range(5):\n",
    "    t = Thread(target=display, args=('Rahul',))\n",
    "    t.start()"
   ]
  },
  {
   "cell_type": "code",
   "execution_count": 25,
   "metadata": {},
   "outputs": [
    {
     "name": "stdout",
     "output_type": "stream",
     "text": [
      "1\n",
      "2\n",
      "3\n",
      "4\n",
      "5\n"
     ]
    }
   ],
   "source": [
    "# Creating a thread by creating a sub class to Thread Class\n",
    "\n",
    "from threading import *\n",
    "\n",
    "class MyThread(Thread):\n",
    "    def run(self):\n",
    "        for i in range(1,6):\n",
    "            print(i)\n",
    "# create an instance of MyThread class\n",
    "t1 = MyThread()\n",
    "\n",
    "# start running the thread t1\n",
    "t1.start()\n",
    "\n",
    "# wait till thread completes execution\n",
    "t1.join()"
   ]
  },
  {
   "cell_type": "code",
   "execution_count": 28,
   "metadata": {},
   "outputs": [
    {
     "name": "stdout",
     "output_type": "stream",
     "text": [
      "Rahul\n",
      "Rahul\n",
      "Rahul\n",
      "Rahul\n",
      "Rahul\n"
     ]
    }
   ],
   "source": [
    "from threading import *\n",
    "\n",
    "class MyThread(Thread):\n",
    "    def __init__(self,str):\n",
    "        Thread.__init__(self)\n",
    "        self.str = str\n",
    "        \n",
    "    def run(self):\n",
    "        for i in range(1,6):\n",
    "            print(self.str)\n",
    "\n",
    "# create an instance of MyThread class\n",
    "t1 = MyThread('Rahul')\n",
    "\n",
    "# start running the thread t1\n",
    "t1.start()\n",
    "\n",
    "# wait till thread completes execution\n",
    "t1.join()"
   ]
  },
  {
   "cell_type": "code",
   "execution_count": 32,
   "metadata": {},
   "outputs": [
    {
     "name": "stdout",
     "output_type": "stream",
     "text": [
      "Hello\n",
      "The args are:  5 6\n"
     ]
    }
   ],
   "source": [
    "# Creating a thread without making sub class to Thread Class\n",
    "\n",
    "from threading import *\n",
    "\n",
    "class MyThread:\n",
    "    def __init__(self,str):\n",
    "        self.str = str\n",
    "        \n",
    "    def display(self, x, y):\n",
    "        print(self.str)\n",
    "        print('The args are: ', x, y)\n",
    "\n",
    "obj = MyThread('Hello')\n",
    "t1 = Thread(target=obj.display, args=(5,6))\n",
    "\n",
    "t1.start()"
   ]
  },
  {
   "cell_type": "code",
   "execution_count": 58,
   "metadata": {},
   "outputs": [
    {
     "name": "stdout",
     "output_type": "stream",
     "text": [
      "\n",
      "available births are: 1\n",
      "1 bert allotted to First Person\n",
      "\n",
      "available births are: 1\n",
      "1 bert allotted to Second Person\n"
     ]
    }
   ],
   "source": [
    "# When you run this program, it will give random results. To resolve this issue I have used locks in next program.\n",
    "\n",
    "from threading import *\n",
    "import time\n",
    "\n",
    "class Railway:\n",
    "    # constructer\n",
    "    def __init__(self, available):\n",
    "        self.available = available\n",
    "        \n",
    "    def reserve_seat(self, wanted):\n",
    "        print(\"\\navailable births are: %d\" %self.available)\n",
    "        if (self.available >= wanted):\n",
    "            thread_name = current_thread().getName()\n",
    "            print(\"%d bert allotted to %s\" %(wanted, thread_name))\n",
    "            time.sleep(1.5)\n",
    "            self.available -= wanted\n",
    "        else:\n",
    "            # if available < wanted\n",
    "            print('sorry, no berths to allot')\n",
    "    \n",
    "    \n",
    "obj = Railway(1)\n",
    "\n",
    "# create 2 threads\n",
    "t1 = Thread(target=obj.reserve_seat, args=(1,))\n",
    "t2 = Thread(target=obj.reserve_seat, args=(1,))\n",
    "    \n",
    "# set threads name\n",
    "            \n",
    "t1.setName('First Person')\n",
    "t2.setName('Second Person')\n",
    "            \n",
    "# start threads\n",
    "t1.start()\n",
    "t2.start()\n",
    "    "
   ]
  },
  {
   "cell_type": "code",
   "execution_count": 63,
   "metadata": {},
   "outputs": [
    {
     "name": "stdout",
     "output_type": "stream",
     "text": [
      "Using lock mechanism\n",
      "\n",
      "available births are: 1\n",
      "1 bert allotted to First Person\n",
      "\n",
      "available births are: 0\n",
      "sorry, no berths to allot\n"
     ]
    }
   ],
   "source": [
    "# With locks\n",
    "from threading import *\n",
    "import time\n",
    "\n",
    "class Railway:\n",
    "    # constructer\n",
    "    def __init__(self, available):\n",
    "        print(\"Using lock mechanism\")\n",
    "        self.available = available\n",
    "        # create lock object\n",
    "        self.l = Lock()\n",
    "        \n",
    "    def reserve_seat(self, wanted):\n",
    "        # create lock\n",
    "        self.l.acquire()\n",
    "        print(\"\\navailable births are: %d\" %self.available)\n",
    "        if (self.available >= wanted):\n",
    "            thread_name = current_thread().getName()\n",
    "            print(\"%d bert allotted to %s\" %(wanted, thread_name))\n",
    "            time.sleep(1.5)\n",
    "            self.available -= wanted\n",
    "        else:\n",
    "            # if available < wanted\n",
    "            print('sorry, no berths to allot')\n",
    "        # release lock\n",
    "        self.l.release()\n",
    "    \n",
    "obj = Railway(1)\n",
    "\n",
    "# create 2 threads\n",
    "t1 = Thread(target=obj.reserve_seat, args=(1,))\n",
    "t2 = Thread(target=obj.reserve_seat, args=(1,))\n",
    "    \n",
    "# set threads name\n",
    "            \n",
    "t1.setName('First Person')\n",
    "t2.setName('Second Person')\n",
    "            \n",
    "# start threads\n",
    "t1.start()\n",
    "t2.start()"
   ]
  },
  {
   "cell_type": "code",
   "execution_count": 74,
   "metadata": {},
   "outputs": [
    {
     "name": "stdout",
     "output_type": "stream",
     "text": [
      "Using Semaphore mechanism\n",
      "\n",
      "available births are: 1\n",
      "1 bert allotted to First Person\n",
      "\n",
      "available births are: 0\n",
      "sorry, no berths to allot\n"
     ]
    }
   ],
   "source": [
    "# With Semaphore\n",
    "from threading import *\n",
    "import time\n",
    "\n",
    "class Railway:\n",
    "    # constructer\n",
    "    def __init__(self, available):\n",
    "        print(\"Using Semaphore mechanism\")\n",
    "        self.available = available\n",
    "        # create lock object, Default value is 1. Test it by updating value to 2.\n",
    "        self.l = Semaphore(1)\n",
    "        \n",
    "    def reserve_seat(self, wanted):\n",
    "        # create lock\n",
    "        self.l.acquire()\n",
    "        print(\"\\navailable births are: %d\" %self.available)\n",
    "        if (self.available >= wanted):\n",
    "            thread_name = current_thread().getName()\n",
    "            print(\"%d bert allotted to %s\" %(wanted, thread_name))\n",
    "            time.sleep(1.5)\n",
    "            self.available -= wanted\n",
    "        else:\n",
    "            # if available < wanted\n",
    "            print('sorry, no berths to allot')\n",
    "        # release lock\n",
    "        self.l.release()\n",
    "    \n",
    "obj = Railway(1)\n",
    "\n",
    "# create 2 threads\n",
    "t1 = Thread(target=obj.reserve_seat, args=(1,))\n",
    "t2 = Thread(target=obj.reserve_seat, args=(1,))\n",
    "    \n",
    "# set threads name\n",
    "            \n",
    "t1.setName('First Person')\n",
    "t2.setName('Second Person')\n",
    "            \n",
    "# start threads\n",
    "t1.start()\n",
    "t2.start()"
   ]
  }
 ],
 "metadata": {
  "kernelspec": {
   "display_name": "Python 3",
   "language": "python",
   "name": "python3"
  },
  "language_info": {
   "codemirror_mode": {
    "name": "ipython",
    "version": 3
   },
   "file_extension": ".py",
   "mimetype": "text/x-python",
   "name": "python",
   "nbconvert_exporter": "python",
   "pygments_lexer": "ipython3",
   "version": "3.6.8"
  }
 },
 "nbformat": 4,
 "nbformat_minor": 4
}
