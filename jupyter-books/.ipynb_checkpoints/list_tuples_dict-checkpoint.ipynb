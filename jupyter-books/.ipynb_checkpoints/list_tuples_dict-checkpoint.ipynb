{
 "cells": [
  {
   "cell_type": "markdown",
   "metadata": {},
   "source": [
    "# Learn list"
   ]
  },
  {
   "cell_type": "code",
   "execution_count": 25,
   "metadata": {},
   "outputs": [
    {
     "name": "stdout",
     "output_type": "stream",
     "text": [
      "[1, 2, 3, 4, 5, 6, 7, 8, 9, 10]\n",
      "[6, 7, 8, 9, 10]\n",
      "[]\n",
      "\n",
      "\n",
      "[10, 9, 8, 7, 6, 5, 4, 3, 2, 1]\n",
      "[]\n",
      "[8, 7]\n",
      "range(0, 5)\n",
      "<class 'range'>\n",
      "0 1 2 3 4 "
     ]
    }
   ],
   "source": [
    "# Slicing\n",
    "\n",
    "lst1 = [1, 2, 3, 4, 5, 6, 7, 8, 9, 10]\n",
    "print(lst1[::])\n",
    "print(lst1[5:20:]) # will print till last of lisy and will ignore from index 10 onwards\n",
    "print(lst1[10::]) # will print empty list as we have list from index 0-9 only\n",
    "\n",
    "\n",
    "print('\\n')\n",
    "print(lst1[::-1])\n",
    "print(lst1[-3:-5:]) # print empty list as it will traverse in forward direction =>\n",
    "print(lst1[-3:-5:-1]) # print list from reverse direction\n",
    "\n",
    "\n",
    "lst = range(5)\n",
    "print(lst) # this would not have actual list, it will be haing <class 'range'> object\n",
    "print(type(lst))\n",
    "for i in lst:\n",
    "    print(i, end=' ')"
   ]
  },
  {
   "cell_type": "markdown",
   "metadata": {},
   "source": [
    "# List methods\n",
    "#list.append(x)\n",
    "#list.extend(list1)\n",
    "#list.pop([i]) - Index is optional. By default it will pop last element.\n",
    "#list.insert(i,x)\n",
    "#list.remove(x)\n",
    "#list.count(x)\n",
    "#list.sort()\n",
    "#list.reverse()\n",
    "#list.index(x)\n",
    "#list.sum()\n",
    "#list.copy()\n",
    "#list.clear()"
   ]
  },
  {
   "cell_type": "code",
   "execution_count": 38,
   "metadata": {},
   "outputs": [
    {
     "name": "stdout",
     "output_type": "stream",
     "text": [
      "List x is - [10, 20, 30, 40]\n",
      "List y is - [10, 20, 30, 40]\n",
      "List a is - [1, 2, 4]\n",
      "List b is - [1, 2, 3]\n",
      "List c is - [10, 20, 30, [40, 60]]\n",
      "List d is - [10, 20, 30, [40, 60]]\n",
      "List e is - [10, 20, 30, [40, 60]]\n",
      "List f is - [10, 20, 30, [40, 50]]\n"
     ]
    }
   ],
   "source": [
    "# Cloning and copying list\n",
    "x = [10,20,30]\n",
    "y = x # in this case both will point to same list [10,20.30]\n",
    "x.append(40)\n",
    "\n",
    "print(\"List x is - {}\".format(x))\n",
    "print(\"List y is - {}\".format(y))\n",
    "\n",
    "\n",
    "# To have separate copy use y = x[:]\n",
    "a = [1,2,3]\n",
    "b = a[:]\n",
    "a[2]= 4\n",
    "# Here list 'a' and 'b' both are independent and modification will not impact each other\n",
    "print(\"List a is - {}\".format(a))\n",
    "print(\"List b is - {}\".format(b))\n",
    "\n",
    "\n",
    "# y = x[:] will not solve problem when lists ar enested like [10,20,30,[40,50]]. \n",
    "# In this case when any changes are done inside nested list for 'x', changes will also reflect in list 'y'.\n",
    "c = [10,20,30,[40,50]]\n",
    "d = c[:]\n",
    "c[3][1] = 60 # 60 will be updated in both lists c & d.\n",
    "print(\"List c is - {}\".format(c))\n",
    "print(\"List d is - {}\".format(d))\n",
    "\n",
    "\n",
    "\n",
    "# To resolve above issue permanately use deepcopy()\n",
    "import copy\n",
    "e = [10,20,30,[40,50]]\n",
    "f = copy.deepcopy(e)\n",
    "e[3][1] = 60 # 60 will be updated only in list e, It wont impact list f\n",
    "print(\"List e is - {}\".format(e))\n",
    "print(\"List f is - {}\".format(f))\n"
   ]
  },
  {
   "cell_type": "code",
   "execution_count": null,
   "metadata": {},
   "outputs": [],
   "source": []
  }
 ],
 "metadata": {
  "kernelspec": {
   "display_name": "Python 3",
   "language": "python",
   "name": "python3"
  },
  "language_info": {
   "codemirror_mode": {
    "name": "ipython",
    "version": 3
   },
   "file_extension": ".py",
   "mimetype": "text/x-python",
   "name": "python",
   "nbconvert_exporter": "python",
   "pygments_lexer": "ipython3",
   "version": "3.6.8"
  }
 },
 "nbformat": 4,
 "nbformat_minor": 4
}
