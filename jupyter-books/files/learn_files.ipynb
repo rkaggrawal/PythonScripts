{
 "cells": [
  {
   "cell_type": "markdown",
   "metadata": {},
   "source": [
    "## open and write in a file"
   ]
  },
  {
   "cell_type": "code",
   "execution_count": 15,
   "metadata": {},
   "outputs": [
    {
     "name": "stdout",
     "output_type": "stream",
     "text": [
      "Enter a string:how are you\n"
     ]
    }
   ],
   "source": [
    "f = open('myfile.txt', 'a')\n",
    "str = input(\"Enter a string:\")\n",
    "f.write(str+'\\n')\n",
    "f.close()"
   ]
  },
  {
   "cell_type": "markdown",
   "metadata": {},
   "source": [
    "## read from file"
   ]
  },
  {
   "cell_type": "code",
   "execution_count": 20,
   "metadata": {},
   "outputs": [
    {
     "name": "stdout",
     "output_type": "stream",
     "text": [
      "hi\n",
      "hello\n",
      "how are you\n",
      "\n"
     ]
    }
   ],
   "source": [
    "f = open('myfile.txt','r')\n",
    "str = f.read()\n",
    "print(str)\n",
    "f.close()"
   ]
  },
  {
   "cell_type": "code",
   "execution_count": 24,
   "metadata": {},
   "outputs": [
    {
     "name": "stdout",
     "output_type": "stream",
     "text": [
      "['hi\\n', 'hello\\n', 'how are you\\n']\n"
     ]
    }
   ],
   "source": [
    "f = open('myfile.txt','r')\n",
    "print(f.readlines())\n",
    "f.close()\n"
   ]
  },
  {
   "cell_type": "code",
   "execution_count": 50,
   "metadata": {},
   "outputs": [
    {
     "name": "stdout",
     "output_type": "stream",
     "text": [
      "['__all__', '__builtins__', '__cached__', '__doc__', '__file__', '__loader__', '__name__', '__package__', '__spec__', '_abspath_fallback', '_get_bothseps', '_getfinalpathname', '_getfullpathname', '_getvolumepathname', 'abspath', 'altsep', 'basename', 'commonpath', 'commonprefix', 'curdir', 'defpath', 'devnull', 'dirname', 'exists', 'expanduser', 'expandvars', 'extsep', 'genericpath', 'getatime', 'getctime', 'getmtime', 'getsize', 'isabs', 'isdir', 'isfile', 'islink', 'ismount', 'join', 'lexists', 'normcase', 'normpath', 'os', 'pardir', 'pathsep', 'realpath', 'relpath', 'samefile', 'sameopenfile', 'samestat', 'sep', 'split', 'splitdrive', 'splitext', 'splitunc', 'stat', 'supports_unicode_filenames', 'sys']\n",
      "Help on function isfile in module genericpath:\n",
      "\n",
      "isfile(path)\n",
      "    Test whether a path is a regular file\n",
      "\n",
      "Help on function exists in module genericpath:\n",
      "\n",
      "exists(path)\n",
      "    Test whether a path exists.  Returns False for broken symbolic links\n",
      "\n",
      "file or folder exists\n",
      "file or folder exists\n",
      "Help on function getsize in module genericpath:\n",
      "\n",
      "getsize(filename)\n",
      "    Return the size of a file, reported by os.stat().\n",
      "\n",
      "size of file is - 24\n"
     ]
    }
   ],
   "source": [
    "import os\n",
    "print(dir(os.path))\n",
    "help(os.path.isfile)\n",
    "help(os.path.exists)\n",
    "\n",
    "# os.path.exists verifies whether file of folder/dir exists\n",
    "if os.path.exists('testdir'):\n",
    "    print(\"file or folder exists\")\n",
    "else:\n",
    "    print('file or folder does not exist')\n",
    "\n",
    "# os.path.isfile verifies whether its file or not. If you pass dir it will return False.\n",
    "file = 'myfile.txt'\n",
    "if os.path.isfile(file):\n",
    "    print(\"file or folder exists\")\n",
    "    help(os.path.getsize)\n",
    "    print(\"size of file is - {}\".format(os.path.getsize(file)))\n",
    "else:\n",
    "    print('file or folder does not exist')"
   ]
  },
  {
   "cell_type": "markdown",
   "metadata": {},
   "source": [
    "## with open(\"filename\", \"openmode\") as fileobject"
   ]
  },
  {
   "cell_type": "code",
   "execution_count": 56,
   "metadata": {},
   "outputs": [
    {
     "name": "stdout",
     "output_type": "stream",
     "text": [
      "hi\n",
      "hello\n",
      "how are you\n"
     ]
    }
   ],
   "source": [
    "with open('myfile.txt','r') as f:\n",
    "#     print(f)\n",
    "    for line in f:\n",
    "        print(line.rstrip('\\n'))\n"
   ]
  },
  {
   "cell_type": "markdown",
   "metadata": {},
   "source": [
    "## os module\n",
    "os.mkdir()\n",
    "\n",
    "os.makedirs() # create dir like dir1/dir2/dir3...\n",
    "\n",
    "os.getcwd()\n",
    "\n",
    "os.chdir()\n",
    "\n",
    "os.rmdir()\n",
    "\n",
    "os.removeirs()\n",
    "\n",
    "os.rename('oldname', 'newname')"
   ]
  },
  {
   "cell_type": "code",
   "execution_count": 8,
   "metadata": {},
   "outputs": [
    {
     "name": "stdout",
     "output_type": "stream",
     "text": [
      "Help on built-in function getcwd in module nt:\n",
      "\n",
      "getcwd()\n",
      "    Return a unicode string representing the current working directory.\n",
      "\n",
      "None\n",
      "current dir is -G:\\Incedo_Laptop\\Rahul\\rahul-python-git\\PythonScripts\\jupyter-books\\files\n"
     ]
    }
   ],
   "source": [
    "import os\n",
    "print(help(os.getcwd))\n",
    "print('current dir is -{}'.format(os.getcwd()))\n",
    "# os.mkdir('mydir')\n",
    "# os.chdir('mydir')\n",
    "# print('current dir is -{}'.format(os.getcwd()))\n",
    "\n",
    "# os.makedirs('dir1/dir2/dir3')\n",
    "# os.removedirs('dir1/dir2/dir3')\\\n",
    "# os.rename('mydir', 'mydir1')"
   ]
  },
  {
   "cell_type": "code",
   "execution_count": 22,
   "metadata": {},
   "outputs": [
    {
     "name": "stdout",
     "output_type": "stream",
     "text": [
      "G:\\Incedo_Laptop\\Rahul\\rahul-python-git\\PythonScripts\\jupyter-books\\files\n",
      "0\n"
     ]
    },
    {
     "data": {
      "text/plain": [
       "0"
      ]
     },
     "execution_count": 22,
     "metadata": {},
     "output_type": "execute_result"
    }
   ],
   "source": [
    "import os\n",
    "print(os.getcwd())\n",
    "print(os.system('cmd /k \"date\"'))\n",
    "import subprocess\n",
    "subprocess.call([\"ls\", \"-l\"])"
   ]
  },
  {
   "cell_type": "markdown",
   "metadata": {},
   "source": [
    "## os.walk"
   ]
  },
  {
   "cell_type": "code",
   "execution_count": 16,
   "metadata": {},
   "outputs": [
    {
     "name": "stdout",
     "output_type": "stream",
     "text": [
      "G:\\Incedo_Laptop\\Rahul\\rahul-python-git\\PythonScripts\\jupyter-books\\files\\test_walk\n",
      ".\n",
      "['test_walk_file1.txt', 'test_walk_file2.txt']\n",
      "['dir1', 'dir11']\n",
      "\n",
      "\n",
      ".\\test_walk_file1.txt\n",
      ".\\test_walk_file2.txt\n",
      ".\\dir1\n",
      ".\\dir11\n",
      "\n",
      "\n",
      ".\\dir1\n",
      "['dir1_file1.txt']\n",
      "['dir2']\n",
      "\n",
      "\n",
      ".\\dir1\\dir1_file1.txt\n",
      ".\\dir1\\dir2\n",
      "\n",
      "\n",
      ".\\dir1\\dir2\n",
      "['dir2_file1.txt']\n",
      "['dir3']\n",
      "\n",
      "\n",
      ".\\dir1\\dir2\\dir2_file1.txt\n",
      ".\\dir1\\dir2\\dir3\n",
      "\n",
      "\n",
      ".\\dir1\\dir2\\dir3\n",
      "['dir3_file1.txt']\n",
      "[]\n",
      "\n",
      "\n",
      ".\\dir1\\dir2\\dir3\\dir3_file1.txt\n",
      "\n",
      "\n",
      ".\\dir11\n",
      "['dir11_file.txt']\n",
      "[]\n",
      "\n",
      "\n",
      ".\\dir11\\dir11_file.txt\n",
      "\n",
      "\n"
     ]
    }
   ],
   "source": [
    "import os\n",
    "# help(os.walk)\n",
    "os.chdir('G:/Incedo_Laptop/Rahul/rahul-python-git/PythonScripts/jupyter-books/files/test_walk')\n",
    "print(os.getcwd())\n",
    "count = 1\n",
    "for root, dirs, files in os.walk(\".\", topdown=True):\n",
    "    print(root)\n",
    "    print(files)\n",
    "    print(dirs)\n",
    "    print('\\n')\n",
    "    for name in files:\n",
    "        print(os.path.join(root, name))\n",
    "    for name in dirs:\n",
    "        print(os.path.join(root, name))\n",
    "    print('\\n')\n",
    "#     if count == 2:\n",
    "#         break\n",
    "#     count+=1"
   ]
  }
 ],
 "metadata": {
  "kernelspec": {
   "display_name": "Python 3",
   "language": "python",
   "name": "python3"
  },
  "language_info": {
   "codemirror_mode": {
    "name": "ipython",
    "version": 3
   },
   "file_extension": ".py",
   "mimetype": "text/x-python",
   "name": "python",
   "nbconvert_exporter": "python",
   "pygments_lexer": "ipython3",
   "version": "3.6.8"
  }
 },
 "nbformat": 4,
 "nbformat_minor": 4
}
