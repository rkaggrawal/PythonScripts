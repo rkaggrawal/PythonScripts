{
 "cells": [
  {
   "cell_type": "markdown",
   "metadata": {},
   "source": [
    "## open adn write in a file"
   ]
  },
  {
   "cell_type": "code",
   "execution_count": 15,
   "metadata": {},
   "outputs": [
    {
     "name": "stdout",
     "output_type": "stream",
     "text": [
      "Enter a string:how are you\n"
     ]
    }
   ],
   "source": [
    "f = open('myfile.txt', 'a')\n",
    "str = input(\"Enter a string:\")\n",
    "f.write(str+'\\n')\n",
    "f.close()"
   ]
  },
  {
   "cell_type": "markdown",
   "metadata": {},
   "source": [
    "## read from file"
   ]
  },
  {
   "cell_type": "code",
   "execution_count": 20,
   "metadata": {},
   "outputs": [
    {
     "name": "stdout",
     "output_type": "stream",
     "text": [
      "hi\n",
      "hello\n",
      "how are you\n",
      "\n"
     ]
    }
   ],
   "source": [
    "f = open('myfile.txt','r')\n",
    "str = f.read()\n",
    "print(str)\n",
    "f.close()"
   ]
  },
  {
   "cell_type": "code",
   "execution_count": 24,
   "metadata": {},
   "outputs": [
    {
     "name": "stdout",
     "output_type": "stream",
     "text": [
      "['hi\\n', 'hello\\n', 'how are you\\n']\n"
     ]
    }
   ],
   "source": [
    "f = open('myfile.txt','r')\n",
    "print(f.readlines())\n",
    "f.close()\n"
   ]
  },
  {
   "cell_type": "code",
   "execution_count": 46,
   "metadata": {},
   "outputs": [
    {
     "name": "stdout",
     "output_type": "stream",
     "text": [
      "['__all__', '__builtins__', '__cached__', '__doc__', '__file__', '__loader__', '__name__', '__package__', '__spec__', '_abspath_fallback', '_get_bothseps', '_getfinalpathname', '_getfullpathname', '_getvolumepathname', 'abspath', 'altsep', 'basename', 'commonpath', 'commonprefix', 'curdir', 'defpath', 'devnull', 'dirname', 'exists', 'expanduser', 'expandvars', 'extsep', 'genericpath', 'getatime', 'getctime', 'getmtime', 'getsize', 'isabs', 'isdir', 'isfile', 'islink', 'ismount', 'join', 'lexists', 'normcase', 'normpath', 'os', 'pardir', 'pathsep', 'realpath', 'relpath', 'samefile', 'sameopenfile', 'samestat', 'sep', 'split', 'splitdrive', 'splitext', 'splitunc', 'stat', 'supports_unicode_filenames', 'sys']\n",
      "Help on function isfile in module genericpath:\n",
      "\n",
      "isfile(path)\n",
      "    Test whether a path is a regular file\n",
      "\n",
      "Help on function exists in module genericpath:\n",
      "\n",
      "exists(path)\n",
      "    Test whether a path exists.  Returns False for broken symbolic links\n",
      "\n",
      "file or folder exists\n",
      "file or folder does not exist\n"
     ]
    }
   ],
   "source": [
    "import os\n",
    "print(dir(os.path))\n",
    "help(os.path.isfile)\n",
    "help(os.path.exists)\n",
    "\n",
    "# os.path.exists verifies whether file of folder/dir exists\n",
    "if os.path.exists('testdir'):\n",
    "    print(\"file or folder exists\")\n",
    "else:\n",
    "    print('file or folder does not exist')\n",
    "\n",
    "# os.path.isfile verifies whether its file or not. If you pass dir it will return False.\n",
    "if os.path.isfile('testdir'):\n",
    "    print(\"file or folder exists\")\n",
    "else:\n",
    "    print('file or folder does not exist')"
   ]
  }
 ],
 "metadata": {
  "kernelspec": {
   "display_name": "Python 3",
   "language": "python",
   "name": "python3"
  },
  "language_info": {
   "codemirror_mode": {
    "name": "ipython",
    "version": 3
   },
   "file_extension": ".py",
   "mimetype": "text/x-python",
   "name": "python",
   "nbconvert_exporter": "python",
   "pygments_lexer": "ipython3",
   "version": "3.6.8"
  }
 },
 "nbformat": 4,
 "nbformat_minor": 4
}
