{
 "cells": [
  {
   "cell_type": "markdown",
   "metadata": {},
   "source": [
    "## Factorial using recursion"
   ]
  },
  {
   "cell_type": "code",
   "execution_count": null,
   "metadata": {},
   "outputs": [],
   "source": [
    "def fact(num):\n",
    "    if num==0:\n",
    "        return 1\n",
    "    else:\n",
    "        result = num * fact(num-1)\n",
    "#     print(\"Factorial of {} is {}\".format(n,result))\n",
    "    return result\n",
    "\n",
    "for x in range(1, 5):\n",
    "    print(\"fatorial of %d is  %d\" %(x, fact(x)))"
   ]
  },
  {
   "cell_type": "markdown",
   "metadata": {},
   "source": [
    "## Factorial using recursion - optimized"
   ]
  },
  {
   "cell_type": "code",
   "execution_count": 5,
   "metadata": {},
   "outputs": [
    {
     "name": "stdout",
     "output_type": "stream",
     "text": [
      "fatorial of 1 is  1\n",
      "fatorial of 2 is  2\n",
      "fatorial of 3 is  6\n",
      "fatorial of 4 is  24\n",
      "fatorial of 5 is  120\n",
      "fatorial of 6 is  720\n"
     ]
    }
   ],
   "source": [
    "factoral_cache = {}\n",
    "def fact(num):\n",
    "    if num in factoral_cache:\n",
    "        return factoral_cache[num]\n",
    "    if num==0:\n",
    "        return 1\n",
    "    else:\n",
    "        result = num * fact(num-1)\n",
    "    factoral_cache[num] = result\n",
    "    return result\n",
    "\n",
    "for x in range(1, 7):\n",
    "    print(\"fatorial of %d is  %d\" %(x, fact(x)))"
   ]
  },
  {
   "cell_type": "markdown",
   "metadata": {},
   "source": [
    "## Fibonacci using recursion"
   ]
  },
  {
   "cell_type": "code",
   "execution_count": 3,
   "metadata": {},
   "outputs": [
    {
     "name": "stdout",
     "output_type": "stream",
     "text": [
      "1 : 1\n",
      "2 : 1\n",
      "3 : 2\n",
      "4 : 3\n",
      "5 : 5\n"
     ]
    }
   ],
   "source": [
    "def fib(num):\n",
    "    if num == 1:\n",
    "        return 1\n",
    "    elif num == 2:\n",
    "        return 1\n",
    "    else:\n",
    "        result = fib(num-2) + fib(num-1)\n",
    "    return result\n",
    "\n",
    "for x in range(1,6):\n",
    "    print(\"{} : {}\".format(x, fib(x)))"
   ]
  },
  {
   "cell_type": "markdown",
   "metadata": {},
   "source": [
    "## Fibonacci using recursion - Optimized"
   ]
  },
  {
   "cell_type": "code",
   "execution_count": 4,
   "metadata": {},
   "outputs": [
    {
     "name": "stdout",
     "output_type": "stream",
     "text": [
      "1 : 1\n",
      "2 : 1\n",
      "3 : 2\n",
      "4 : 3\n",
      "5 : 5\n"
     ]
    }
   ],
   "source": [
    "fibonacci_cache = {}\n",
    "def fib(num):\n",
    "    if num == 1:\n",
    "        return 1\n",
    "    elif num == 2:\n",
    "        return 1\n",
    "    else:\n",
    "        result = fib(num-2) + fib(num-1)\n",
    "    fibonacci_cache[num] = result\n",
    "    return result\n",
    "\n",
    "for x in range(1,6):\n",
    "    print(\"{} : {}\".format(x, fib(x)))"
   ]
  },
  {
   "cell_type": "markdown",
   "metadata": {},
   "source": []
  },
  {
   "cell_type": "code",
   "execution_count": null,
   "metadata": {},
   "outputs": [],
   "source": []
  }
 ],
 "metadata": {
  "kernelspec": {
   "display_name": "Python 3",
   "language": "python",
   "name": "python3"
  },
  "language_info": {
   "codemirror_mode": {
    "name": "ipython",
    "version": 3
   },
   "file_extension": ".py",
   "mimetype": "text/x-python",
   "name": "python",
   "nbconvert_exporter": "python",
   "pygments_lexer": "ipython3",
   "version": "3.6.8"
  }
 },
 "nbformat": 4,
 "nbformat_minor": 4
}
