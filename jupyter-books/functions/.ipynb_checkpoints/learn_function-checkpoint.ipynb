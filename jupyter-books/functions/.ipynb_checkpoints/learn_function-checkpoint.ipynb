{
 "cells": [
  {
   "cell_type": "markdown",
   "metadata": {},
   "source": [
    "# Learn Functions"
   ]
  },
  {
   "cell_type": "code",
   "execution_count": 42,
   "metadata": {},
   "outputs": [
    {
     "name": "stdout",
     "output_type": "stream",
     "text": [
      "inside function sum is 180\n",
      "inside function sum is 60\n",
      "inside function sum is 120\n"
     ]
    }
   ],
   "source": [
    "def add(x,y=50,*args):\n",
    "    global sum \n",
    "    sum = x+y\n",
    "    for arg in args:\n",
    "        sum+=arg\n",
    "        \n",
    "    print(\"inside function sum is {}\".format(sum))\n",
    "    return sum\n",
    "    print(\"after return\")# after retrun no statement will be executed\n",
    "    \n",
    "sum = add(10,20,40,50,60)\n",
    "sum = add(10)\n",
    "sum = add(y=90,x=30)\n",
    "# print(\"outside funcion sum is{:7.3f}\".format(sum))"
   ]
  },
  {
   "cell_type": "markdown",
   "metadata": {},
   "source": [
    "# Global  and local  variable together"
   ]
  },
  {
   "cell_type": "code",
   "execution_count": 65,
   "metadata": {},
   "outputs": [
    {
     "name": "stdout",
     "output_type": "stream",
     "text": [
      "x,y is 2,5\n"
     ]
    }
   ],
   "source": [
    "a,b,c = 5,6,7\n",
    "def add():\n",
    "    a = 2\n",
    "    x = a # assign local variable 'a' value to x\n",
    "    y = globals()['a'] # assign global variable 'a' value to y\n",
    "    print(\"x,y is %d,%d\" % (x,y))\n",
    "    \n",
    "sum = add()"
   ]
  },
  {
   "cell_type": "markdown",
   "metadata": {},
   "source": [
    "# Lambda"
   ]
  },
  {
   "cell_type": "code",
   "execution_count": 73,
   "metadata": {},
   "outputs": [
    {
     "name": "stdout",
     "output_type": "stream",
     "text": [
      "value is 25.00\n"
     ]
    }
   ],
   "source": [
    "f = lambda x: x*x\n",
    "\n",
    "value = f(5)\n",
    "print(\"value is %.2f\" %value)"
   ]
  },
  {
   "cell_type": "markdown",
   "metadata": {},
   "source": [
    "# Lambda with filter, map and reduce"
   ]
  },
  {
   "cell_type": "code",
   "execution_count": 77,
   "metadata": {},
   "outputs": [
    {
     "name": "stdout",
     "output_type": "stream",
     "text": [
      "[10, 12, 18, 20]\n"
     ]
    }
   ],
   "source": [
    "lst = [10,12,15,18,20]\n",
    "lst1 = list(filter(lambda x: x%2==0, lst))\n",
    "print(lst1)"
   ]
  },
  {
   "cell_type": "code",
   "execution_count": 79,
   "metadata": {},
   "outputs": [
    {
     "name": "stdout",
     "output_type": "stream",
     "text": [
      "[20, 24, 30, 36, 40]\n"
     ]
    }
   ],
   "source": [
    "lst = [10,12,15,18,20]\n",
    "lst1 = list(map(lambda x: x*2, lst))\n",
    "print(lst1)"
   ]
  },
  {
   "cell_type": "code",
   "execution_count": 84,
   "metadata": {},
   "outputs": [
    {
     "name": "stdout",
     "output_type": "stream",
     "text": [
      "120\n"
     ]
    }
   ],
   "source": [
    "from functools import *\n",
    "lst = [10,12,15,18,20]\n",
    "value = reduce(lambda x,y: x*y, range(1,6))\n",
    "print(value)"
   ]
  },
  {
   "cell_type": "markdown",
   "metadata": {},
   "source": [
    "# Recursive functions"
   ]
  },
  {
   "cell_type": "code",
   "execution_count": 85,
   "metadata": {},
   "outputs": [
    {
     "name": "stdout",
     "output_type": "stream",
     "text": [
      "factorial of 5 is 120\n"
     ]
    }
   ],
   "source": [
    "def fact(n):\n",
    "    if n==1:\n",
    "        return 1\n",
    "    else:\n",
    "        result = n*fact(n-1)\n",
    "    return result\n",
    "\n",
    "value = 5\n",
    "result = fact(value)\n",
    "print(\"factorial of %d is %d\" %(value, result))"
   ]
  },
  {
   "cell_type": "markdown",
   "metadata": {},
   "source": [
    "# Closures In Python\n",
    "The criteria that must be met to create closure in Python are summarized in the following points.\n",
    "        #We must have a nested function (function inside a function).\n",
    "        #The nested function must refer to a value defined in the enclosing function.\n",
    "        #The enclosing function must return the nested function. "
   ]
  },
  {
   "cell_type": "code",
   "execution_count": 95,
   "metadata": {},
   "outputs": [
    {
     "name": "stdout",
     "output_type": "stream",
     "text": [
      "I am in func1\n",
      "<function func1.<locals>.func2 at 0x000001E2EA6A7A60>\n",
      "I am in func2\n",
      "multiplication is 72\n"
     ]
    }
   ],
   "source": [
    "def func1(a):\n",
    "    print(\"I am in func1\")\n",
    "    def func2(b):             #nested func\n",
    "        print(\"I am in func2\")\n",
    "        result = a*b          #refering value 'a' of enclosed func1\n",
    "        return result\n",
    "    return func2              #returns function\n",
    "\n",
    "obj1 = func1(8)\n",
    "print(obj1)\n",
    "mult = obj1(9)\n",
    "print(\"multiplication is %d\" %mult)"
   ]
  },
  {
   "cell_type": "markdown",
   "metadata": {},
   "source": [
    "# Decorators"
   ]
  },
  {
   "cell_type": "code",
   "execution_count": 105,
   "metadata": {},
   "outputs": [
    {
     "name": "stdout",
     "output_type": "stream",
     "text": [
      "I am in decor\n",
      "<function decor.<locals>.inner at 0x000001E2ECDE0620>\n",
      "I am in inner\n",
      "result is 12\n"
     ]
    }
   ],
   "source": [
    "def decor(func):\n",
    "    print(\"I am in decor\")\n",
    "    def inner():\n",
    "        print(\"I am in inner\")\n",
    "        value = func()\n",
    "        return value+2\n",
    "    return inner\n",
    "def num():\n",
    "    return 10\n",
    "\n",
    "decorate_me = decor(num)\n",
    "print(decorate_me) \n",
    "print(\"result is {}\".format(decorate_me()))"
   ]
  },
  {
   "cell_type": "code",
   "execution_count": 103,
   "metadata": {},
   "outputs": [
    {
     "name": "stdout",
     "output_type": "stream",
     "text": [
      "I am in decor\n",
      "I am in inner\n",
      "result is 12\n"
     ]
    }
   ],
   "source": [
    "def decor(func):\n",
    "    print(\"I am in decor\")\n",
    "    def inner():\n",
    "        print(\"I am in inner\")\n",
    "        value = func()\n",
    "        return value+2\n",
    "    return inner\n",
    "# we can also use @ for decorating any functions\n",
    "@decor\n",
    "def num():\n",
    "    return 10\n",
    "print(\"result is {}\".format(num()))\n",
    "# decorate_me = decor(num)\n",
    "# print(decorate_me)\n",
    "# print(\"result is {}\".format(decorate_me()))"
   ]
  },
  {
   "cell_type": "markdown",
   "metadata": {},
   "source": [
    "# Multilevel decorator"
   ]
  },
  {
   "cell_type": "code",
   "execution_count": 107,
   "metadata": {},
   "outputs": [
    {
     "name": "stdout",
     "output_type": "stream",
     "text": [
      "I am in decor2\n",
      "I am in decor1\n",
      "I am in inner1\n",
      "I am in inner2\n",
      "22\n"
     ]
    }
   ],
   "source": [
    "def decor1(func):\n",
    "    print(\"I am in decor1\")\n",
    "    def inner1():\n",
    "        print(\"I am in inner1\")\n",
    "        value = func()\n",
    "        return value+2\n",
    "    return inner1\n",
    "\n",
    "def decor2(func):\n",
    "    print(\"I am in decor2\")\n",
    "    def inner2():\n",
    "        print(\"I am in inner2\")\n",
    "        value = func()\n",
    "        return value*2\n",
    "    return inner2\n",
    "\n",
    "@decor1\n",
    "@decor2\n",
    "def num():\n",
    "    return 10\n",
    "print(num())"
   ]
  },
  {
   "cell_type": "markdown",
   "metadata": {},
   "source": [
    "# Generators"
   ]
  },
  {
   "cell_type": "code",
   "execution_count": 138,
   "metadata": {},
   "outputs": [
    {
     "name": "stdout",
     "output_type": "stream",
     "text": [
      "[1, 2, 3, 4, 5]\n"
     ]
    }
   ],
   "source": [
    "def mygen(x):\n",
    "    num = 1\n",
    "    while num <= x:\n",
    "        yield num\n",
    "        num+=1\n",
    "        \n",
    "g = mygen(5)\n",
    "print(list(g))\n",
    "for i in g:\n",
    "    print(i, end=' ')"
   ]
  },
  {
   "cell_type": "code",
   "execution_count": 3,
   "metadata": {},
   "outputs": [
    {
     "name": "stdout",
     "output_type": "stream",
     "text": [
      "1\n",
      "2\n",
      "3\n"
     ]
    }
   ],
   "source": [
    "# Using next() function\n",
    "def mygen(x):\n",
    "    num = 1\n",
    "    while num <= x:\n",
    "        yield num\n",
    "        num+=1\n",
    "# call generator function and get generator object g        \n",
    "g = mygen(3)\n",
    "\n",
    "# display all data one by one using next() function\n",
    "print(next(g))\n",
    "print(next(g))\n",
    "print(next(g))\n",
    "# print(next(g)) # It will thorw error as data is exhausted\n"
   ]
  },
  {
   "cell_type": "markdown",
   "metadata": {},
   "source": [
    "## Set in python\n",
    "\n",
    "A set is a collection which is unordered and unindexed. In Python sets are written with curly brackets {} and has no duplicate elements.\n",
    "\n",
    "set = {'a', 'b', 'c'}\n",
    "\n",
    "The update() method inserts the items in set2 into set1: set1.update(set2)\n",
    "Both union() and update() will exclude any duplicate items."
   ]
  },
  {
   "cell_type": "code",
   "execution_count": 22,
   "metadata": {},
   "outputs": [
    {
     "name": "stdout",
     "output_type": "stream",
     "text": [
      "<class 'set'>\n",
      "{'guava', 'banana', 'apple'}\n",
      "{1, 2, 3, 4}\n",
      "\n",
      "set1 - {'guava', 'banana', 'apple'}\n",
      "set2 - {'guava', 'grapes', 'apple', 'orange'}\n",
      "\n",
      "set union\n",
      "{'grapes', 'guava', 'banana', 'orange', 'apple'}\n",
      "\n",
      "set intersection\n",
      "{'guava', 'apple'}\n",
      "\n",
      "set difference\n",
      "{'banana'}\n"
     ]
    }
   ],
   "source": [
    "myset = {'apple', 'banana', 'guava', 'apple'}\n",
    "print(type(myset))\n",
    "print(myset)\n",
    "\n",
    "list = {1, 2, 3, 1, 4,3}\n",
    "# convert list into set. Set will remove dupliace elements\n",
    "print(set(list))\n",
    "\n",
    "\n",
    "set1 = {'apple', 'banana', 'guava', 'apple'}\n",
    "set2 = {'orange', 'grapes', 'apple', 'guava'}\n",
    "\n",
    "print('\\nset1 - {}'.format(set1))\n",
    "print('set2 - {}'.format(set2))\n",
    "print('\\nset union') # return set which has all non duplicate elements from both set1 & set2\n",
    "print(set1.union(set2))\n",
    "\n",
    "\n",
    "print('\\nset intersection') # return set which has only common elements from both set1 & set2\n",
    "print(set1.intersection(set2))\n",
    "\n",
    "# set difference method - Return a set that contains the items that only exist in set set1, and not in set set2\n",
    "print('\\nset difference')\n",
    "print(set1.difference(set2))"
   ]
  }
 ],
 "metadata": {
  "kernelspec": {
   "display_name": "Python 3",
   "language": "python",
   "name": "python3"
  },
  "language_info": {
   "codemirror_mode": {
    "name": "ipython",
    "version": 3
   },
   "file_extension": ".py",
   "mimetype": "text/x-python",
   "name": "python",
   "nbconvert_exporter": "python",
   "pygments_lexer": "ipython3",
   "version": "3.6.8"
  }
 },
 "nbformat": 4,
 "nbformat_minor": 4
}
