{
 "cells": [
  {
   "cell_type": "markdown",
   "metadata": {},
   "source": [
    "# Learn Python Regular Expressions"
   ]
  },
  {
   "cell_type": "code",
   "execution_count": 112,
   "metadata": {},
   "outputs": [
    {
     "name": "stdout",
     "output_type": "stream",
     "text": [
      "()\n",
      "Match found - man\n",
      "Match found - man\n"
     ]
    }
   ],
   "source": [
    "# match word which is in start of string and retuns object\n",
    "import re\n",
    "prog = re.compile(r'm\\w\\w')\n",
    "str = 'man bat chat'\n",
    "result = prog.match(str)\n",
    "print(result.groups()) # If no () parentheses is used during search, re.groups() will return empty tuple i.e ().\n",
    "if result:\n",
    "    print('Match found - {}'.format(result.group())) # group() & group(0) are same\n",
    "    print('Match found - {}'.format(result.group(0)))\n",
    "else:\n",
    "    print('No match found')"
   ]
  },
  {
   "cell_type": "markdown",
   "metadata": {},
   "source": [
    "If a group matches multiple times, only the last match is accessible"
   ]
  },
  {
   "cell_type": "code",
   "execution_count": 144,
   "metadata": {},
   "outputs": [
    {
     "name": "stdout",
     "output_type": "stream",
     "text": [
      "('hat',)\n",
      "group - manbathat\n",
      "group(0) - manbathat\n",
      "group(1) - hat\n"
     ]
    }
   ],
   "source": [
    "import re\n",
    "prog = re.compile(r'(...)+')\n",
    "str = 'manbathat'\n",
    "m = prog.match(str)\n",
    "print(m.groups()) #only last matchd string 'hat' will be accessible.\n",
    "\n",
    "print(\"group - {}\".format(m.group()))\n",
    "print(\"group(0) - {}\".format(m.group(0)))\n",
    "print(\"group(1) - {}\".format(m.group(1)))\n"
   ]
  },
  {
   "cell_type": "markdown",
   "metadata": {},
   "source": [
    "re.groups() method returns a tuple containing all the subgroups of the match, from 1 up to however many groups are in the pattern. The default argument is used for groups that did not participate in the match; it defaults to None.  In later versions (from 1.5.1 on), a singleton tuple is returned in such cases.\n",
    "\n",
    "If no () parentheses is used during search, re.groups() will return empty tuple i.e ().\n",
    "\n",
    "re.group() & re.group(0) both are same and returns full matched string."
   ]
  },
  {
   "cell_type": "code",
   "execution_count": 163,
   "metadata": {},
   "outputs": [
    {
     "name": "stdout",
     "output_type": "stream",
     "text": [
      "groups - ('c',)\n",
      "group - abc\n",
      "group(0) - abc\n",
      "group(1) - c\n",
      "\n",
      "\n",
      "\n",
      "groups - ('abc',)\n",
      "group - abc\n",
      "group(0) - abc\n",
      "group(1) - abc\n"
     ]
    }
   ],
   "source": [
    "import re\n",
    "# results = re.findall(r'(..)+',\"a1b2c3\")\n",
    "# print(results)\n",
    "m = re.match(r'([abc])+', \"abc\")\n",
    "print(\"groups - {}\".format(m.groups()))\n",
    "\n",
    "print(\"group - {}\".format(m.group()))\n",
    "print(\"group(0) - {}\".format(m.group(0)))\n",
    "print(\"group(1) - {}\".format(m.group(1)))\n",
    "\n",
    "print('\\n\\n')\n",
    "m = re.match(r'([abc]+)', \"abc\")\n",
    "print(\"groups - {}\".format(m.groups()))\n",
    "\n",
    "print(\"group - {}\".format(m.group()))\n",
    "print(\"group(0) - {}\".format(m.group(0)))\n",
    "print(\"group(1) - {}\".format(m.group(1)))"
   ]
  },
  {
   "cell_type": "code",
   "execution_count": 89,
   "metadata": {},
   "outputs": [
    {
     "name": "stdout",
     "output_type": "stream",
     "text": [
      "groups - ('27', '1835')\n",
      "groups(0) - ('27', '1835')\n",
      "groups(1) - ('27', '1835')\n",
      "groups(2) - ('27', '1835')\n",
      "groups(3) - ('27', '1835')\n",
      "\n",
      "\n",
      "group - 27.1835\n",
      "group(0) - 27.1835\n",
      "group(1) - 27\n",
      "group(2) - 1835\n"
     ]
    }
   ],
   "source": [
    "import re\n",
    "# results = re.findall(r'(..)+',\"a1b2c3\")\n",
    "# print(results)\n",
    "m = re.match(r\"(\\d+)\\.(\\d+)\", \"27.1835abc12\")\n",
    "\n",
    "# Groups\n",
    "print(\"groups - {}\".format(m.groups()))\n",
    "# Below groups() statements will return same result irrespective of value inside groups(0), groups(1)..etc\n",
    "print(\"groups(0) - {}\".format(m.groups(0)))\n",
    "print(\"groups(1) - {}\".format(m.groups(1)))\n",
    "print(\"groups(2) - {}\".format(m.groups(2)))\n",
    "print(\"groups(3) - {}\".format(m.groups(3)))\n",
    "\n",
    "print('\\n')\n",
    "# Group\n",
    "print(\"group - {}\".format(m.group()))\n",
    "print(\"group(0) - {}\".format(m.group(0)))\n",
    "print(\"group(1) - {}\".format(m.group(1)))\n",
    "print(\"group(2) - {}\".format(m.group(2)))\n",
    "# print(\"group(3) - {}\".format(m.group(3))) # This will throw error"
   ]
  },
  {
   "cell_type": "code",
   "execution_count": 106,
   "metadata": {},
   "outputs": [
    {
     "name": "stdout",
     "output_type": "stream",
     "text": [
      "groups - ('27', None)\n",
      "groups(0) - ('27', 0)\n",
      "groups(1) - ('27', 1)\n",
      "\n",
      "\n",
      "group - 27\n",
      "group(0) - 27\n",
      "group(1) - 27\n",
      "group(2) - None\n"
     ]
    }
   ],
   "source": [
    "#refer - https://www.tutorialspoint.com/What-is-the-groups-method-in-regular-expressions-in-Python\n",
    "import re\n",
    "m = re.match(r\"(\\d+)\\.?(\\d+)?\", \"27\")\n",
    "print(\"groups - {}\".format(m.groups()))\n",
    "print(\"groups(0) - {}\".format(m.groups(0)))\n",
    "print(\"groups(1) - {}\".format(m.groups(1)))\n",
    "\n",
    "print('\\n')\n",
    "print(\"group - {}\".format(m.group()))\n",
    "print(\"group(0) - {}\".format(m.group(0)))\n",
    "print(\"group(1) - {}\".format(m.group(1)))\n",
    "print(\"group(2) - {}\".format(m.group(2)))\n"
   ]
  },
  {
   "cell_type": "code",
   "execution_count": null,
   "metadata": {},
   "outputs": [],
   "source": [
    "#math word any where in string. it returns first matchd occurence only.it returns object.\n",
    "import re\n",
    "prog = re.compile(r'm\\w\\w')\n",
    "str = 'cat mat bat chat mac'\n",
    "result = prog.search(str)\n",
    "print(result.group())"
   ]
  },
  {
   "cell_type": "code",
   "execution_count": null,
   "metadata": {},
   "outputs": [],
   "source": [
    "#math word any where in string. it returns all occurence of matching words.it returns list.\n",
    "prog = re.compile(r'm\\w\\w')\n",
    "str = 'cat mat bat chat mop'\n",
    "result = prog.findall(str) #returns list\n",
    "print(result)\n",
    "for s in result:\n",
    "    print(s)"
   ]
  },
  {
   "cell_type": "code",
   "execution_count": null,
   "metadata": {},
   "outputs": [],
   "source": [
    "#match word any where in string. it returns all occurence of matching words.it returns list.\n",
    "#'\\b' will check space before and after word. {1,3} will match word of length 1 to 3.\n",
    "str = 'cat mat bat chat mop mild aman mk prowess'\n",
    "prog = re.compile(r'\\b[\\w]{4,9}\\b')\n",
    "result = prog.findall(str)\n",
    "for s in result:\n",
    "    print(s)"
   ]
  },
  {
   "cell_type": "code",
   "execution_count": null,
   "metadata": {},
   "outputs": [],
   "source": [
    "#All words starting with 'a'\n",
    "import re\n",
    "prog = re.compile(r'\\ba[\\w]*\\b')\n",
    "str = 'an apple a day keeps doctor away'\n",
    "result = prog.findall(str)\n",
    "for s in result:\n",
    "    print(s)"
   ]
  },
  {
   "cell_type": "code",
   "execution_count": null,
   "metadata": {},
   "outputs": [],
   "source": [
    "#All words starting with numeric digit\n",
    "import re\n",
    "prog = re.compile(r'\\b\\d[\\w]*\\b')\n",
    "str = 'The meeting is on 1st and 21st of every month gp3rd'\n",
    "result = prog.findall(str)\n",
    "for s in result:\n",
    "    print(s)"
   ]
  },
  {
   "cell_type": "code",
   "execution_count": null,
   "metadata": {},
   "outputs": [],
   "source": [
    "#match from end using '\\Z'\n",
    "import re\n",
    "prog = re.compile(r'\\bt[\\w]*\\b\\Z')  # $ or \\Z both do same work\n",
    "str = 'tea two three tea tiger'\n",
    "result = prog.findall(str)\n",
    "for s in result:\n",
    "    print(s)"
   ]
  },
  {
   "cell_type": "code",
   "execution_count": null,
   "metadata": {},
   "outputs": [],
   "source": [
    "#match from starting using '\\A'\n",
    "import re\n",
    "prog = re.compile(r'\\At[\\w]*') # ^ or \\A both do same work\n",
    "str = 'tea two three tree tiger'\n",
    "result = prog.findall(str)\n",
    "for s in result:\n",
    "    print(s)"
   ]
  },
  {
   "cell_type": "code",
   "execution_count": null,
   "metadata": {},
   "outputs": [],
   "source": [
    "#re.sub is used for replacing string\n",
    "import re\n",
    "str = \"I work in Incedo\"\n",
    "result = re.sub(r'incedo', 'Tripwire', str, flags=re.I)\n",
    "print(result)"
   ]
  },
  {
   "cell_type": "code",
   "execution_count": null,
   "metadata": {},
   "outputs": [],
   "source": [
    "#re.split is used to match and split string. In following example, from space string \n",
    "#will be spilt\n",
    "import re\n",
    "str = 'cat mat bat chat mop'\n",
    "prog = re.compile(r'\\s+')\n",
    "result = prog.split(str)\n",
    "for s in result:\n",
    "    print(s)"
   ]
  },
  {
   "cell_type": "code",
   "execution_count": null,
   "metadata": {},
   "outputs": [],
   "source": [
    "#match word having exact length 5 using '{5}'\n",
    "import re\n",
    "prog = re.compile(r'\\b\\w{5}\\b')\n",
    "str = 'tea two three tree tiger'\n",
    "result = prog.findall(str)\n",
    "for s in result:\n",
    "    print(s)"
   ]
  },
  {
   "cell_type": "code",
   "execution_count": null,
   "metadata": {},
   "outputs": [],
   "source": [
    "#match words having length 4 or 5 using '{4,5}'\n",
    "import re\n",
    "prog = re.compile(r'\\b\\w{4,5}\\b')\n",
    "str = 'tea two three tree tiger'\n",
    "result = prog.findall(str)\n",
    "for s in result:\n",
    "    print(s)"
   ]
  },
  {
   "cell_type": "code",
   "execution_count": null,
   "metadata": {},
   "outputs": [],
   "source": [
    "#match words having length 3 or more using '{3,}'. It will match words having the length of\n",
    "#at least 3 chracters\n",
    "import re\n",
    "prog = re.compile(r'\\b\\w{3,}\\b')\n",
    "str = 'no tea two three tree tiger me to'\n",
    "result = prog.findall(str)\n",
    "for s in result:\n",
    "    print(s)"
   ]
  },
  {
   "cell_type": "code",
   "execution_count": null,
   "metadata": {},
   "outputs": [],
   "source": [
    "import re\n",
    "text = 'Python exercises, PHP exercises, C# exercises'\n",
    "pattern = 'exercises'\n",
    "for match in re.finditer(pattern, text):\n",
    "    s = match.start()\n",
    "    e = match.end()\n",
    "    print('Found \"{}\" at {}:{}'.format(text[s:e], s, e))"
   ]
  },
  {
   "cell_type": "code",
   "execution_count": null,
   "metadata": {},
   "outputs": [],
   "source": [
    "#Write a Python program to remove lowercase substrings from a given string\n",
    "import re\n",
    "str = \"AbCDeFGhI\"\n",
    "result = re.sub(r'[a-z]', '', str)\n",
    "print(result)"
   ]
  },
  {
   "cell_type": "code",
   "execution_count": null,
   "metadata": {},
   "outputs": [],
   "source": [
    "#Write a Python program to convert lower to upper case\n",
    "import re\n",
    "str = \"AbCDeFGhI\"\n",
    "result = re.sub(r'[a-z]', lambda m: m.group().upper(), str)\n",
    "print(result)\n"
   ]
  },
  {
   "cell_type": "code",
   "execution_count": null,
   "metadata": {},
   "outputs": [],
   "source": [
    "#retrive timings in am or pm\n",
    "import re\n",
    "str = \"Meeting can be at 8pm or 9pm or 7am or 8am\"\n",
    "prog = re.compile(r'\\dam|\\dpm')\n",
    "result = prog.findall(str)\n",
    "print(result)"
   ]
  },
  {
   "cell_type": "code",
   "execution_count": null,
   "metadata": {},
   "outputs": [],
   "source": [
    "#open file and extract only mail ids\n",
    "f = open(\"mails.txt\", 'r')\n",
    "for line in f:\n",
    "    import re\n",
    "    result = re.findall(r'\\S+@\\S+', line)\n",
    "    for res in result:\n",
    "        print(re.sub(r'[,.]\\Z','',res))\n",
    "    "
   ]
  },
  {
   "cell_type": "markdown",
   "metadata": {},
   "source": [
    "Extract data from one file and write to other file"
   ]
  },
  {
   "cell_type": "code",
   "execution_count": 3,
   "metadata": {},
   "outputs": [
    {
     "name": "stdout",
     "output_type": "stream",
     "text": [
      "1001\t150000.00\n",
      "1002\t8787.45\n",
      "1002\t9888.5\n"
     ]
    }
   ],
   "source": [
    "f1 = open(\"employees.txt\", 'r')\n",
    "f2 = open(\"newfile.txt\", 'w')\n",
    "for line in f1:\n",
    "    import re\n",
    "    result1 = re.search(r'\\d{4}', line)\n",
    "    result2 = re.search(r'\\d{4,}.\\d{1,}', line)\n",
    "    print('{}\\t{}'.format(result1.group(), result2.group()))\n",
    "    f2.write('{}\\t{}\\n'.format(result1.group(), result2.group()))\n",
    "\n",
    "#close files\n",
    "f1.close()\n",
    "f2.close()    "
   ]
  },
  {
   "cell_type": "code",
   "execution_count": 2,
   "metadata": {},
   "outputs": [
    {
     "name": "stdout",
     "output_type": "stream",
     "text": [
      "[('Roti', '50.00'), ('Chapatti', '55.75'), ('Dosa', '48.00'), ('Idly', '25.00')]\n",
      "Item=Roti\tPrice=50.00\n",
      "Item=Chapatti\tPrice=55.75\n",
      "Item=Dosa\tPrice=48.00\n",
      "Item=Idly\tPrice=25.00\n"
     ]
    }
   ],
   "source": [
    "import urllib.request, re\n",
    "f = urllib.request.urlopen(r'file:///G:/Incedo_Laptop/Rahul/rahul-python-git/PythonScripts/jupyter-books/regex/breakfast.html')\n",
    "str = f.read().decode()\n",
    "result = re.findall(r'<td>\\w+</td>\\s<td>(\\w+)</td>\\s<td>(\\d{2}.\\d{2})</td>', str)\n",
    "print(result)\n",
    "for item, price in result:\n",
    "    print(\"Item={}\\tPrice={}\".format(item,price))\n"
   ]
  },
  {
   "cell_type": "code",
   "execution_count": 21,
   "metadata": {
    "scrolled": true
   },
   "outputs": [
    {
     "name": "stdout",
     "output_type": "stream",
     "text": [
      "Python 3.6.8\n"
     ]
    }
   ],
   "source": [
    "!python --version"
   ]
  }
 ],
 "metadata": {
  "kernelspec": {
   "display_name": "Python 3",
   "language": "python",
   "name": "python3"
  },
  "language_info": {
   "codemirror_mode": {
    "name": "ipython",
    "version": 3
   },
   "file_extension": ".py",
   "mimetype": "text/x-python",
   "name": "python",
   "nbconvert_exporter": "python",
   "pygments_lexer": "ipython3",
   "version": "3.6.8"
  }
 },
 "nbformat": 4,
 "nbformat_minor": 4
}
