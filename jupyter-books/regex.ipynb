{
 "cells": [
  {
   "cell_type": "code",
   "execution_count": null,
   "metadata": {},
   "outputs": [],
   "source": [
    "#match word which is in start of string and retuns object\n",
    "import re\n",
    "prog = re.compile(r'm\\w\\w')\n",
    "str = 'map bat chat'\n",
    "result = prog.match(str)\n",
    "if result:\n",
    "    print(result.group(0))\n",
    "else:\n",
    "    raise AttributeError"
   ]
  },
  {
   "cell_type": "code",
   "execution_count": null,
   "metadata": {},
   "outputs": [],
   "source": [
    "#math word any where in string. it returns first matchd occurence only.it returns object.\n",
    "import re\n",
    "prog = re.compile(r'm\\w\\w')\n",
    "str = 'cat mat bat chat'\n",
    "result = prog.search(str)\n",
    "print(result.group(0))"
   ]
  },
  {
   "cell_type": "code",
   "execution_count": null,
   "metadata": {},
   "outputs": [],
   "source": [
    "#math word any where in string. it returns all occurence of matching words.it returns list.\n",
    "prog = re.compile(r'm\\w\\w')\n",
    "str = 'cat mat bat chat mop'\n",
    "result = prog.findall(str)\n",
    "for s in result:\n",
    "    print(s)"
   ]
  },
  {
   "cell_type": "code",
   "execution_count": null,
   "metadata": {},
   "outputs": [],
   "source": [
    "#math word any where in string. it returns all occurence of matching words.it returns list.\n",
    "#'\\b' will check space before and after word. {2,3} will match word of length 2 to 3.\n",
    "str = 'cat mat bat chat mop mild aman'\n",
    "prog = re.compile(r'\\bm\\w{2,3}\\b')\n",
    "result = prog.findall(str)\n",
    "for s in result:\n",
    "    print(s)"
   ]
  },
  {
   "cell_type": "code",
   "execution_count": 23,
   "metadata": {},
   "outputs": [
    {
     "name": "stdout",
     "output_type": "stream",
     "text": [
      "an\n",
      "apple\n",
      "a\n",
      "away\n"
     ]
    }
   ],
   "source": [
    "#All words starting with 'a'\n",
    "import re\n",
    "prog = re.compile(r'\\ba[\\w]*\\b')\n",
    "str = 'an apple a day keeps doctor away'\n",
    "result = prog.findall(str)\n",
    "for s in result:\n",
    "    print(s)"
   ]
  },
  {
   "cell_type": "code",
   "execution_count": null,
   "metadata": {},
   "outputs": [],
   "source": [
    "#All words starting with numeric digit\n",
    "import re\n",
    "prog = re.compile(r'\\d[\\w]*')\n",
    "str = 'The meeting is on 1st and 21st of every month'\n",
    "result = prog.findall(str)\n",
    "for s in result:\n",
    "    print(s)"
   ]
  },
  {
   "cell_type": "code",
   "execution_count": null,
   "metadata": {},
   "outputs": [],
   "source": [
    "#match from end using '\\Z'\n",
    "import re\n",
    "prog = re.compile(r't[\\w]*\\Z')\n",
    "str = 'tea two three tea tiger'\n",
    "result = prog.findall(str)\n",
    "for s in result:\n",
    "    print(s)"
   ]
  },
  {
   "cell_type": "code",
   "execution_count": null,
   "metadata": {},
   "outputs": [],
   "source": [
    "#match from starting using '\\A'\n",
    "import re\n",
    "prog = re.compile(r'\\At[\\w]*')\n",
    "str = 'tea two three tree tiger'\n",
    "result = prog.findall(str)\n",
    "for s in result:\n",
    "    print(s)"
   ]
  },
  {
   "cell_type": "code",
   "execution_count": 37,
   "metadata": {},
   "outputs": [
    {
     "name": "stdout",
     "output_type": "stream",
     "text": [
      "I work in Tripwire\n"
     ]
    }
   ],
   "source": [
    "#re.sub is used for replacing string\n",
    "import re\n",
    "str = \"I work in Incedo\"\n",
    "result = re.sub(r'incedo', 'Tripwire', str, flags=re.I)\n",
    "print(result)"
   ]
  },
  {
   "cell_type": "code",
   "execution_count": 22,
   "metadata": {},
   "outputs": [
    {
     "name": "stdout",
     "output_type": "stream",
     "text": [
      "cat\n",
      "mat\n",
      "bat\n",
      "chat\n",
      "mop\n"
     ]
    }
   ],
   "source": [
    "#re.split is used to match and split string. In following example, from space string \n",
    "#will be spilt\n",
    "import re\n",
    "str = 'cat mat bat chat mop'\n",
    "prog = re.compile(r'\\s+')\n",
    "result = prog.split(str)\n",
    "for s in result:\n",
    "    print(s)"
   ]
  },
  {
   "cell_type": "code",
   "execution_count": 27,
   "metadata": {},
   "outputs": [
    {
     "name": "stdout",
     "output_type": "stream",
     "text": [
      "three\n",
      "tiger\n"
     ]
    }
   ],
   "source": [
    "#match word having exact length 5 using '{5}'\n",
    "import re\n",
    "prog = re.compile(r'\\b\\w{5}\\b')\n",
    "str = 'tea two three tree tiger'\n",
    "result = prog.findall(str)\n",
    "for s in result:\n",
    "    print(s)"
   ]
  },
  {
   "cell_type": "code",
   "execution_count": 28,
   "metadata": {},
   "outputs": [
    {
     "name": "stdout",
     "output_type": "stream",
     "text": [
      "three\n",
      "tree\n",
      "tiger\n"
     ]
    }
   ],
   "source": [
    "#match words having length 4 or 5 using '{4,5}'\n",
    "import re\n",
    "prog = re.compile(r'\\b\\w{4,5}\\b')\n",
    "str = 'tea two three tree tiger'\n",
    "result = prog.findall(str)\n",
    "for s in result:\n",
    "    print(s)"
   ]
  },
  {
   "cell_type": "code",
   "execution_count": 35,
   "metadata": {},
   "outputs": [
    {
     "name": "stdout",
     "output_type": "stream",
     "text": [
      "tea\n",
      "two\n",
      "three\n",
      "tree\n",
      "tiger\n"
     ]
    }
   ],
   "source": [
    "#match words having length 3 or more using '{3,}'. It will match words having the length of\n",
    "#at least 3 chracters\n",
    "import re\n",
    "prog = re.compile(r'\\b\\w{3,}\\b')\n",
    "str = 'no tea two three tree tiger me to'\n",
    "result = prog.findall(str)\n",
    "for s in result:\n",
    "    print(s)"
   ]
  },
  {
   "cell_type": "code",
   "execution_count": 42,
   "metadata": {},
   "outputs": [
    {
     "name": "stdout",
     "output_type": "stream",
     "text": [
      "Found \"exercises\" at 7:16\n",
      "Found \"exercises\" at 22:31\n",
      "Found \"exercises\" at 36:45\n"
     ]
    }
   ],
   "source": [
    "import re\n",
    "text = 'Python exercises, PHP exercises, C# exercises'\n",
    "pattern = 'exercises'\n",
    "for match in re.finditer(pattern, text):\n",
    "    s = match.start()\n",
    "    e = match.end()\n",
    "    print('Found \"{}\" at {}:{}'.format(text[s:e], s, e))"
   ]
  },
  {
   "cell_type": "code",
   "execution_count": 53,
   "metadata": {},
   "outputs": [
    {
     "name": "stdout",
     "output_type": "stream",
     "text": [
      "ACDFGI\n"
     ]
    }
   ],
   "source": [
    "#Write a Python program to remove lowercase substrings from a given string\n",
    "import re\n",
    "str = \"AbCDeFGhI\"\n",
    "result = re.sub(r'[a-z]', '', str)\n",
    "print(result)\n"
   ]
  },
  {
   "cell_type": "code",
   "execution_count": null,
   "metadata": {},
   "outputs": [],
   "source": []
  }
 ],
 "metadata": {
  "kernelspec": {
   "display_name": "Python 3",
   "language": "python",
   "name": "python3"
  },
  "language_info": {
   "codemirror_mode": {
    "name": "ipython",
    "version": 3
   },
   "file_extension": ".py",
   "mimetype": "text/x-python",
   "name": "python",
   "nbconvert_exporter": "python",
   "pygments_lexer": "ipython3",
   "version": "3.6.3"
  }
 },
 "nbformat": 4,
 "nbformat_minor": 4
}
