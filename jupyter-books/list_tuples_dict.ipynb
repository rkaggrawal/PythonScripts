{
 "cells": [
  {
   "cell_type": "markdown",
   "metadata": {},
   "source": [
    "# Learn list"
   ]
  },
  {
   "cell_type": "code",
   "execution_count": 25,
   "metadata": {},
   "outputs": [
    {
     "name": "stdout",
     "output_type": "stream",
     "text": [
      "[1, 2, 3, 4, 5, 6, 7, 8, 9, 10]\n",
      "[6, 7, 8, 9, 10]\n",
      "[]\n",
      "\n",
      "\n",
      "[10, 9, 8, 7, 6, 5, 4, 3, 2, 1]\n",
      "[]\n",
      "[8, 7]\n",
      "range(0, 5)\n",
      "<class 'range'>\n",
      "0 1 2 3 4 "
     ]
    }
   ],
   "source": [
    "# Slicing\n",
    "\n",
    "lst1 = [1, 2, 3, 4, 5, 6, 7, 8, 9, 10]\n",
    "print(lst1[::])\n",
    "print(lst1[5:20:]) # will print till last of lisy and will ignore from index 10 onwards\n",
    "print(lst1[10::]) # will print empty list as we have list from index 0-9 only\n",
    "\n",
    "\n",
    "print('\\n')\n",
    "print(lst1[::-1])\n",
    "print(lst1[-3:-5:]) # print empty list as it will traverse in forward direction =>\n",
    "print(lst1[-3:-5:-1]) # print list from reverse direction\n",
    "\n",
    "\n",
    "lst = range(5)\n",
    "print(lst) # this would not have actual list, it will be haing <class 'range'> object\n",
    "print(type(lst))\n",
    "for i in lst:\n",
    "    print(i, end=' ')"
   ]
  },
  {
   "cell_type": "markdown",
   "metadata": {},
   "source": [
    "## Cloning and copying list"
   ]
  },
  {
   "cell_type": "code",
   "execution_count": 38,
   "metadata": {},
   "outputs": [
    {
     "name": "stdout",
     "output_type": "stream",
     "text": [
      "List x is - [10, 20, 30, 40]\n",
      "List y is - [10, 20, 30, 40]\n",
      "List a is - [1, 2, 4]\n",
      "List b is - [1, 2, 3]\n",
      "List c is - [10, 20, 30, [40, 60]]\n",
      "List d is - [10, 20, 30, [40, 60]]\n",
      "List e is - [10, 20, 30, [40, 60]]\n",
      "List f is - [10, 20, 30, [40, 50]]\n"
     ]
    }
   ],
   "source": [
    "x = [10,20,30]\n",
    "y = x # in this case both will point to same list [10,20.30]\n",
    "x.append(40)\n",
    "\n",
    "print(\"List x is - {}\".format(x))\n",
    "print(\"List y is - {}\".format(y))\n",
    "\n",
    "\n",
    "# To have separate copy use y = x[:]\n",
    "a = [1,2,3]\n",
    "b = a[:]\n",
    "a[2]= 4\n",
    "# Here list 'a' and 'b' both are independent and modification will not impact each other\n",
    "print(\"List a is - {}\".format(a))\n",
    "print(\"List b is - {}\".format(b))\n",
    "\n",
    "\n",
    "# y = x[:] will not solve problem when lists ar enested like [10,20,30,[40,50]]. \n",
    "# In this case when any changes are done inside nested list for 'x', changes will also reflect in list 'y'.\n",
    "c = [10,20,30,[40,50]]\n",
    "d = c[:]\n",
    "c[3][1] = 60 # 60 will be updated in both lists c & d.\n",
    "print(\"List c is - {}\".format(c))\n",
    "print(\"List d is - {}\".format(d))\n",
    "\n",
    "\n",
    "\n",
    "# To resolve above issue permanately use deepcopy()\n",
    "import copy\n",
    "e = [10,20,30,[40,50]]\n",
    "f = copy.deepcopy(e)\n",
    "e[3][1] = 60 # 60 will be updated only in list e, It wont impact list f\n",
    "print(\"List e is - {}\".format(e))\n",
    "print(\"List f is - {}\".format(f))\n"
   ]
  },
  {
   "cell_type": "markdown",
   "metadata": {},
   "source": [
    "## List methods\n",
    "#list.append(x)\n",
    "#list.extend(list1)\n",
    "#list.pop([i]) - Index is optional. By default it will pop last element.\n",
    "#list.insert(i,x)\n",
    "#list.remove(x)\n",
    "#list.count(x)\n",
    "#list.sort()\n",
    "#list.reverse()\n",
    "#list.index(x)\n",
    "#list.sum()\n",
    "#list.copy()\n",
    "#list.clear()"
   ]
  },
  {
   "cell_type": "code",
   "execution_count": 73,
   "metadata": {},
   "outputs": [
    {
     "name": "stdout",
     "output_type": "stream",
     "text": [
      "\n",
      "append\n",
      "List x is - [10, 20, 30, 40]\n",
      "\n",
      "extend\n",
      "List x is - [10, 20, 30, 40, 40, 50, 60]\n",
      "\n",
      "count\n",
      "Count of 40 is  - 2\n",
      "\n",
      "index\n",
      "Count of 50 is  - 5\n",
      "\n",
      "pop\n",
      "List x is - [10, 20, 30, 40, 40, 50]\n",
      "\n",
      "pop with index\n",
      "List x is - [10, 20, 30, 40, 50]\n",
      "\n",
      "insert\n",
      "List x is - [10, 20, 30, 80, 40, 50]\n",
      "\n",
      "remove\n",
      "List x is - [10, 30, 80, 40, 50]\n",
      "\n",
      "clear\n",
      "List x is - []\n",
      "\n",
      "del elements\n",
      "List a before del is - ['a', 'b', 'c', 'd', 'e', 'f']\n",
      "List a after del is - ['a', 'd', 'e', 'f']\n",
      "\n",
      "del complete list\n",
      "List a before del is - ['a', 'b', 'c', 'd', 'e', 'f']\n",
      "\n",
      "sort in ascending\n",
      "List a before sort is - ['a', 'c', 'g', 'b', 'z', 'k']\n",
      "List a after sort is - ['a', 'b', 'c', 'g', 'k', 'z']\n",
      "\n",
      "sort in ascending\n",
      "List before sort is - ['a', 'b', 'c', 'g', 'k', 'z']\n",
      "List after sort in descending order is - ['z', 'k', 'g', 'c', 'b', 'a']\n"
     ]
    }
   ],
   "source": [
    "x = [10,20,30]\n",
    "y = [40,50,60]\n",
    "\n",
    "print('\\nappend')\n",
    "x.append(40)\n",
    "print(\"List x is - {}\".format(x))\n",
    "# print(\"List y is - {}\".format(y))\n",
    "\n",
    "print('\\nextend')\n",
    "x.extend(y)\n",
    "print(\"List x is - {}\".format(x))\n",
    "\n",
    "print('\\ncount')\n",
    "print(\"Count of 40 is  - {}\".format(x.count(40)))\n",
    "\n",
    "print('\\nindex')\n",
    "print(\"Count of 50 is  - {}\".format(x.index(50)))\n",
    "\n",
    "print('\\npop')\n",
    "x.pop()\n",
    "print(\"List x is - {}\".format(x))\n",
    "\n",
    "print('\\npop with index')\n",
    "x.pop(3)\n",
    "print(\"List x is - {}\".format(x))\n",
    "\n",
    "print('\\ninsert')\n",
    "x.insert(3,80)\n",
    "print(\"List x is - {}\".format(x))\n",
    "\n",
    "print('\\nremove')\n",
    "x.remove(20)\n",
    "print(\"List x is - {}\".format(x))\n",
    "\n",
    "print('\\nclear')\n",
    "x.clear()\n",
    "print(\"List x is - {}\".format(x))\n",
    "\n",
    "print('\\ndel elements')\n",
    "a = ['a', 'b', 'c', 'd', 'e', 'f']\n",
    "print(\"List a before del is - {}\".format(a))\n",
    "del a[1:3]\n",
    "print(\"List a after del is - {}\".format(a))\n",
    "\n",
    "print('\\ndel complete list')\n",
    "a = ['a', 'b', 'c', 'd', 'e', 'f']\n",
    "print(\"List a before del is - {}\".format(a))\n",
    "del a\n",
    "# print(\"List a after del is - {}\".format(a)) # wil throw error - NameError: name 'a' is not defined\n",
    "\n",
    "\n",
    "print('\\nsort in ascending')\n",
    "a = ['a', 'c', 'g', 'b', 'z', 'k']\n",
    "print(\"List a before sort is - {}\".format(a))\n",
    "a.sort()\n",
    "print(\"List a after sort is - {}\".format(a))\n",
    "\n",
    "\n",
    "print('\\nsort in ascending')\n",
    "b = ['a', 'c', 'g', 'b', 'z', 'k']\n",
    "print(\"List before sort is - {}\".format(a))\n",
    "b.sort(reverse=True)\n",
    "print(\"List after sort in descending order is - {}\".format(b))"
   ]
  },
  {
   "cell_type": "markdown",
   "metadata": {},
   "source": [
    "## List comprehensions"
   ]
  },
  {
   "cell_type": "code",
   "execution_count": 77,
   "metadata": {},
   "outputs": [
    {
     "name": "stdout",
     "output_type": "stream",
     "text": [
      "List list2 is - [1, 4, 9, 16]\n",
      "List list2 is - [2, 4]\n",
      "List list2 is - [1, 10, 3, 4]\n"
     ]
    }
   ],
   "source": [
    "list1 = [1,2,3,4]\n",
    "list2 = [x*x for x in list1 ]\n",
    "print(\"List list2 is - {}\".format(list2))\n",
    "\n",
    "# with if\n",
    "list2 = [x for x in list1 if x%2==0 ]\n",
    "print(\"List list2 is - {}\".format(list2))\n",
    "\n",
    "# with if..else\n",
    "list2 = [ 10 if x==2 else x for x in list1 ]\n",
    "print(\"List list2 is - {}\".format(list2))\n"
   ]
  },
  {
   "cell_type": "markdown",
   "metadata": {},
   "source": [
    "## Dictioary Methods\n",
    "\n",
    "dict.clear()\n",
    "\n",
    "dict.copy()\n",
    "\n",
    "dict.fromkeys(s [,v])\n",
    "\n",
    "dict.get(k [,v])\n",
    "\n",
    "dict.items()\n",
    "\n",
    "dict.keys()\n",
    "\n",
    "dict.values()\n",
    "\n",
    "dict.update(x) - Adds all element from dict 'x' to 'dict'\n",
    "\n",
    "dict.pop(k [,v])\n",
    "\n",
    "dict.setdefault(k [,v])"
   ]
  },
  {
   "cell_type": "code",
   "execution_count": 122,
   "metadata": {},
   "outputs": [
    {
     "name": "stdout",
     "output_type": "stream",
     "text": [
      "dict.fromkeys()\n",
      "{'a': 1, 'e': 1, 'i': 1, 'o': 1, 'u': 1}\n",
      "\n",
      "dict.get()\n",
      "1\n",
      "key not found\n",
      "{'a': 1, 'e': 1, 'i': 1, 'o': 1, 'u': 1}\n",
      "\n",
      "dict.setdefault()\n",
      "1\n",
      "{'a': 1, 'e': 1, 'i': 1, 'o': 1, 'u': 1, 'g': 2}\n",
      "\n",
      "dict.update()\n",
      "{1: 'abc', 2: 'cde', 'a': 1, 'e': 1, 'i': 1, 'o': 1, 'u': 1, 'g': 2}\n",
      "\n",
      "dict.pop()\n",
      "1\n",
      "{'e': 1, 'i': 1, 'o': 1, 'u': 1, 'g': 2}\n",
      "key not found\n"
     ]
    }
   ],
   "source": [
    "print('dict.fromkeys()')\n",
    "str = 'aeiou'\n",
    "dict = dict.fromkeys(str, 1)\n",
    "print(dict)\n",
    "\n",
    "# dict.keys()\n",
    "\n",
    "print('\\ndict.get()')\n",
    "print(dict.get('a', 'key not found'))\n",
    "print(dict.get('g', 'key not found')) # krey 'g' does not exist hence returns message 'key not found'\n",
    "print(dict)\n",
    "\n",
    "\n",
    "print('\\ndict.setdefault()')\n",
    "dict.setdefault('a', 2)\n",
    "print(dict.setdefault('a', 2)) # key 'a' found return value of 'a' i.e 1\n",
    "dict.setdefault('g', 2) # key 'g' not found hence 'g':2 will be added in dict\n",
    "print(dict)\n",
    "\n",
    "print('\\ndict.update()')\n",
    "dict1 = {1:'abc', 2:'cde'}\n",
    "dict1.update(dict) # adds all elements from dict 'dict' to 'dict1'\n",
    "print(dict1)\n",
    "\n",
    "\n",
    "print('\\ndict.pop()')\n",
    "print(dict.pop('a', 'key not found'))\n",
    "print(dict)\n",
    "print(dict.pop('k', 'key not found'))\n"
   ]
  }
 ],
 "metadata": {
  "kernelspec": {
   "display_name": "Python 3",
   "language": "python",
   "name": "python3"
  },
  "language_info": {
   "codemirror_mode": {
    "name": "ipython",
    "version": 3
   },
   "file_extension": ".py",
   "mimetype": "text/x-python",
   "name": "python",
   "nbconvert_exporter": "python",
   "pygments_lexer": "ipython3",
   "version": "3.6.8"
  }
 },
 "nbformat": 4,
 "nbformat_minor": 4
}
