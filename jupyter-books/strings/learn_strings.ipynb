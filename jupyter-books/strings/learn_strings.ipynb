{
 "cells": [
  {
   "cell_type": "markdown",
   "metadata": {},
   "source": [
    "# Learn Strings In Python"
   ]
  },
  {
   "cell_type": "code",
   "execution_count": 2,
   "metadata": {},
   "outputs": [
    {
     "name": "stdout",
     "output_type": "stream",
     "text": [
      "Core Python\n",
      "Lemgth of string is:11\n"
     ]
    }
   ],
   "source": [
    "str = 'Core Python'\n",
    "\n",
    "# print string\n",
    "print(str[::])\n",
    "\n",
    "# calculate length of string\n",
    "print('Lemgth of string is:{}'.format(len(str)))"
   ]
  },
  {
   "cell_type": "markdown",
   "metadata": {},
   "source": [
    "## Slicing"
   ]
  },
  {
   "cell_type": "code",
   "execution_count": 18,
   "metadata": {},
   "outputs": [
    {
     "name": "stdout",
     "output_type": "stream",
     "text": [
      "Core Python\n",
      "Core Python\n",
      "Cr yhn\n",
      "CPn\n",
      "Python\n"
     ]
    }
   ],
   "source": [
    "# print string using slicing\n",
    "# str[start:stop:step_size]\n",
    "str = 'Core Python'\n",
    "print(str[0:])\n",
    "print(str[0:11])\n",
    "print(str[0::2]) # step size 2\n",
    "print(str[0::5])\n",
    "print(str[-6:])"
   ]
  },
  {
   "cell_type": "markdown",
   "metadata": {},
   "source": [
    "## Reverse slicing"
   ]
  },
  {
   "cell_type": "code",
   "execution_count": 25,
   "metadata": {
    "scrolled": true
   },
   "outputs": [
    {
     "name": "stdout",
     "output_type": "stream",
     "text": [
      "Core Python\n",
      "nohtyP eroC\n"
     ]
    }
   ],
   "source": [
    "str = 'Core Python'\n",
    "print(str)\n",
    "print(str[-1::-1])"
   ]
  },
  {
   "cell_type": "markdown",
   "metadata": {},
   "source": [
    "## Changing case of a String\n",
    "upper()\n",
    "\n",
    "lower()\n",
    "\n",
    "swapcase()\n",
    "\n",
    "title()"
   ]
  },
  {
   "cell_type": "code",
   "execution_count": 31,
   "metadata": {},
   "outputs": [
    {
     "name": "stdout",
     "output_type": "stream",
     "text": [
      "Lower string - python is future\n",
      "Upper string - PYTHON IS FUTURE\n",
      "Swapcase string - pYTHON IS FUTURE\n",
      "Title string - Python Is Future\n"
     ]
    }
   ],
   "source": [
    "str = 'Python is future'\n",
    "print('Lower string - {}'.format(str.lower()))\n",
    "print('Upper string - {}'.format(str.upper()))\n",
    "print('Swapcase string - {}'.format(str.swapcase()))\n",
    "print('Title string - {}'.format(str.title()))"
   ]
  },
  {
   "cell_type": "markdown",
   "metadata": {},
   "source": [
    "## Test starting & Ending of string"
   ]
  },
  {
   "cell_type": "code",
   "execution_count": 36,
   "metadata": {},
   "outputs": [
    {
     "name": "stdout",
     "output_type": "stream",
     "text": [
      "False\n",
      "False\n",
      "True\n"
     ]
    }
   ],
   "source": [
    "str = \"This is python\"\n",
    "print(str.startswith('Tthis'))\n",
    "print(str.endswith('perl'))\n",
    "print(str.endswith('python'))"
   ]
  },
  {
   "cell_type": "markdown",
   "metadata": {},
   "source": [
    "## String Testing Methods\n",
    "isalnum()\n",
    "\n",
    "isalpha()\n",
    "\n",
    "isdigit()\n",
    "\n",
    "islower()\n",
    "\n",
    "isupper()\n",
    "\n",
    "istitle()\n",
    "\n",
    "isspace()"
   ]
  },
  {
   "cell_type": "code",
   "execution_count": 52,
   "metadata": {},
   "outputs": [
    {
     "name": "stdout",
     "output_type": "stream",
     "text": [
      "Enter a string: Python \n",
      "False\n",
      "False\n",
      "False\n",
      "False\n",
      "False\n",
      "True\n",
      "False\n"
     ]
    }
   ],
   "source": [
    "str = input('Enter a string: ')\n",
    "print(str.isalnum())\n",
    "print(str.isalpha())\n",
    "print(str.isdigit())\n",
    "print(str.islower())\n",
    "print(str.isupper())\n",
    "print(str.istitle())\n",
    "print(str.isspace())"
   ]
  }
 ],
 "metadata": {
  "kernelspec": {
   "display_name": "Python 3",
   "language": "python",
   "name": "python3"
  },
  "language_info": {
   "codemirror_mode": {
    "name": "ipython",
    "version": 3
   },
   "file_extension": ".py",
   "mimetype": "text/x-python",
   "name": "python",
   "nbconvert_exporter": "python",
   "pygments_lexer": "ipython3",
   "version": "3.6.8"
  }
 },
 "nbformat": 4,
 "nbformat_minor": 4
}
