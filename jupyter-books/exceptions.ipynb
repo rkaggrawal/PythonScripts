{
 "cells": [
  {
   "cell_type": "markdown",
   "metadata": {},
   "source": [
    "## Python Exceptions\n",
    "\n",
    "try..except\n",
    "\n",
    "try..except..else\n",
    "\n",
    "try..except..else..finally\n",
    "\n",
    "try..finally"
   ]
  },
  {
   "cell_type": "markdown",
   "metadata": {},
   "source": [
    "### The assert statement\n",
    "\n",
    "assert condition, message\n",
    "\n",
    "If condition is False, asssert statement raises AsserstionError with message(optional)"
   ]
  },
  {
   "cell_type": "code",
   "execution_count": 10,
   "metadata": {},
   "outputs": [
    {
     "name": "stdout",
     "output_type": "stream",
     "text": [
      "enter a number between 5 and 10: 14\n",
      "ERROR is - Number is not between 5 and 10\n",
      "Finished !!\n"
     ]
    }
   ],
   "source": [
    "try:\n",
    "    x = int(input('enter a number between 5 and 10: '))\n",
    "    assert x>=5 and x<=10, \"Number is not between 5 and 10\"\n",
    "    print(\"Entered number is - {}\".format(x))\n",
    "except AssertionError as Err:\n",
    "    print(\"ERROR is - {}\".format(Err))\n",
    "finally:\n",
    "    print('Finished !!')\n",
    "    "
   ]
  },
  {
   "cell_type": "markdown",
   "metadata": {},
   "source": [
    "### raise statement \n",
    "To raise custom exception with custom message"
   ]
  },
  {
   "cell_type": "code",
   "execution_count": 23,
   "metadata": {},
   "outputs": [
    {
     "name": "stdout",
     "output_type": "stream",
     "text": [
      "enter a number: 5\n",
      "ERROR is - You entered 5\n",
      "Finished !!\n"
     ]
    }
   ],
   "source": [
    "# raise inbuit exceptions with custom message\n",
    "try:\n",
    "    x = int(input('enter a number: '))\n",
    "    if x==5:\n",
    "        raise Exception(\"You entered 5\")\n",
    "    print(\"No error - You entered successfully - {}\".format(x))\n",
    "except Exception as Err:\n",
    "    print(\"ERROR is - {}\".format(Err))\n",
    "finally:\n",
    "    print('Finished !!')"
   ]
  },
  {
   "cell_type": "code",
   "execution_count": 26,
   "metadata": {},
   "outputs": [
    {
     "name": "stdout",
     "output_type": "stream",
     "text": [
      "enter a number: 6\n",
      "No error - You entered successfully - 6\n",
      "Finished !!\n"
     ]
    }
   ],
   "source": [
    "# create customized exception\n",
    "\n",
    "class MyException(Exception):\n",
    "    def __init__(self,msg):\n",
    "        self.msg = msg\n",
    "try:\n",
    "    x = int(input('enter a number: '))\n",
    "    if x==5:\n",
    "        raise MyException(\"Raised MyException error - You entered 5\")\n",
    "    print(\"No error - You entered successfully - {}\".format(x))\n",
    "except MyException as Err:\n",
    "    print(\"ERROR is - {}\".format(Err))\n",
    "finally:\n",
    "    print('Finished !!')"
   ]
  },
  {
   "cell_type": "markdown",
   "metadata": {},
   "source": [
    "### Log exceptions in file using logging module"
   ]
  },
  {
   "cell_type": "code",
   "execution_count": 44,
   "metadata": {},
   "outputs": [
    {
     "name": "stdout",
     "output_type": "stream",
     "text": [
      "enter a number:2\n",
      "enter b number:c\n"
     ]
    }
   ],
   "source": [
    "import logging\n",
    "# store log messages in log.txt\n",
    "logging.basicConfig(filename = 'log.txt', level=logging.ERROR)\n",
    "try:\n",
    "    a = int(input('enter a number:'))\n",
    "    b = int(input('enter b number:'))\n",
    "    c = a/b\n",
    "except Exception as Err:\n",
    "    Err = \"Err\" + \"\\n\\n\"\n",
    "    logging.exception(Err)"
   ]
  }
 ],
 "metadata": {
  "kernelspec": {
   "display_name": "Python 3",
   "language": "python",
   "name": "python3"
  },
  "language_info": {
   "codemirror_mode": {
    "name": "ipython",
    "version": 3
   },
   "file_extension": ".py",
   "mimetype": "text/x-python",
   "name": "python",
   "nbconvert_exporter": "python",
   "pygments_lexer": "ipython3",
   "version": "3.6.8"
  }
 },
 "nbformat": 4,
 "nbformat_minor": 4
}
