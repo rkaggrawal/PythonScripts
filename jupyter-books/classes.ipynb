{
 "cells": [
  {
   "cell_type": "markdown",
   "metadata": {},
   "source": [
    "## Instance variable\n",
    "\n",
    "What is self variable ?\n",
    "Self represents the insrance of class. In following example s1 & s2 are instances and self will represent s1 or s2. In following program we have printed s1 & self variable and both are having same memory address."
   ]
  },
  {
   "cell_type": "code",
   "execution_count": 21,
   "metadata": {},
   "outputs": [
    {
     "name": "stdout",
     "output_type": "stream",
     "text": [
      "s1 & self will be same\n",
      "self is:  <__main__.sample object at 0x00000153026895F8>\n",
      "s1 instance is:  <__main__.sample object at 0x00000153026895F8>\n",
      "\n",
      "s2 & self will be same\n",
      "self is:  <__main__.sample object at 0x0000015302689D68>\n",
      "s2 instance is:  <__main__.sample object at 0x0000015302689D68>\n",
      "\n",
      "initial values\n",
      "s1.x =  10\n",
      "s2.x =  10\n",
      "\n",
      "after modification\n",
      "s1.x =  12\n",
      "s2.x =  10\n"
     ]
    }
   ],
   "source": [
    "class sample:\n",
    "    # constructer\n",
    "    def __init__(self):\n",
    "        self.x = 10\n",
    "        self.y = 20\n",
    "        print(\"self is: \", self)\n",
    "        \n",
    "    def modify(self):\n",
    "        self.x+=1\n",
    "        \n",
    "# create instances, self represents the object.\n",
    "print(\"s1 & self will be same\")\n",
    "s1 = sample()\n",
    "print(\"s1 instance is: \", s1)\n",
    "\n",
    "print(\"\\ns2 & self will be same\")\n",
    "s2 = sample()\n",
    "print(\"s2 instance is: \", s2)\n",
    "\n",
    "# print values\n",
    "print(\"\\ninitial values\")\n",
    "print(\"s1.x = \", s1.x)\n",
    "print(\"s2.x = \", s2.x)\n",
    "\n",
    "# modify value of x i s1\n",
    "# you can call class method in 2 ways\n",
    "# first nethid is - sample.modify(s1), classname.methodname(instnace)\n",
    "# second method is - s1.modify(), instnace.method()\n",
    "# self, represens the instance\n",
    "sample.modify(s1)\n",
    "s1.modify()\n",
    "\n",
    "# after modification print values. Modification of s1 wont impact s2 instance.\n",
    "print(\"\\nafter modification\")\n",
    "print(\"s1.x = \", s1.x)\n",
    "print(\"s2.x = \", s2.x)"
   ]
  },
  {
   "cell_type": "markdown",
   "metadata": {},
   "source": [
    "## class method and class variable\n",
    "\n",
    "Class methods act on class level. class method act on class variable or static variable."
   ]
  },
  {
   "cell_type": "code",
   "execution_count": 31,
   "metadata": {},
   "outputs": [
    {
     "name": "stdout",
     "output_type": "stream",
     "text": [
      "\n",
      "initial values\n",
      "s1.x =  10\n",
      "s2.x =  10\n",
      "\n",
      "after modification\n",
      "s1.x =  11\n",
      "s2.x =  11\n"
     ]
    }
   ],
   "source": [
    "class sample:\n",
    "    # x is class variable\n",
    "    x = 10\n",
    "    \n",
    "    # modify is class method now\n",
    "    @classmethod\n",
    "    def modify(cls):\n",
    "        cls.x += 1\n",
    "\n",
    "s1 = sample()\n",
    "s2 = sample()\n",
    "\n",
    "print(\"\\ninitial values\")\n",
    "print(\"s1.x = \", s1.x)\n",
    "print(\"s2.x = \", s2.x)\n",
    "\n",
    "# modify x of s1\n",
    "s1.modify()\n",
    "\n",
    "# s1 & s2 both will be modified\n",
    "print(\"\\nafter modification\")\n",
    "print(\"s1.x = \", s1.x)\n",
    "print(\"s2.x = \", s2.x)"
   ]
  },
  {
   "cell_type": "markdown",
   "metadata": {},
   "source": [
    "## If we modify class variabe in instance namespace, changes will not reflect for other instances"
   ]
  },
  {
   "cell_type": "code",
   "execution_count": 43,
   "metadata": {},
   "outputs": [
    {
     "name": "stdout",
     "output_type": "stream",
     "text": [
      "\n",
      "initial values\n",
      "student.n =  10\n",
      "s1.n =  10\n",
      "s2.n =  10\n",
      "\n",
      "after modification\n",
      "student.n =  11\n",
      "s1.n =  11\n",
      "s2.n =  11\n",
      "\n",
      "modify 'n' in instance namespace\n",
      "after modification in instance namespace\n",
      "student.n =  11\n",
      "s1.n =  12\n",
      "s2.n =  11\n"
     ]
    }
   ],
   "source": [
    "class student:\n",
    "    # this is class variable\n",
    "    n = 10\n",
    "    \n",
    "\n",
    "s1 = student()\n",
    "s2 = student()\n",
    "\n",
    "print(\"\\ninitial values\")\n",
    "print(\"student.n = \", student.n)\n",
    "print(\"s1.n = \", s1.n)\n",
    "print(\"s2.n = \", s2.n)\n",
    "\n",
    "student.n += 1\n",
    "print(\"\\nafter modification\")\n",
    "print(\"student.n = \", student.n)\n",
    "print(\"s1.n = \", s1.n)\n",
    "print(\"s2.n = \", s2.n)\n",
    "\n",
    "print(\"\\nmodify 'n' in instance namespace\")\n",
    "s1.n += 1\n",
    "print(\"after modification in instance namespace\")\n",
    "print(\"student.n = \", student.n)\n",
    "print(\"s1.n = \", s1.n)\n",
    "print(\"s2.n = \", s2.n)"
   ]
  },
  {
   "cell_type": "markdown",
   "metadata": {},
   "source": [
    "## static methods\n",
    "\n",
    "Static Method cannot access or modify the class state. The class method takes the class as parameter to know about the state of that class. Static methods do not know about class state. These methods are used to do some utility tasks by taking some parameters."
   ]
  },
  {
   "cell_type": "code",
   "execution_count": 75,
   "metadata": {},
   "outputs": [
    {
     "name": "stdout",
     "output_type": "stream",
     "text": [
      "Today 2020-05-17 is Sunday\n"
     ]
    }
   ],
   "source": [
    "from datetime import date\n",
    "class student:\n",
    "    \n",
    "    @staticmethod\n",
    "    def today_date():\n",
    "        return date.today()\n",
    "    \n",
    "    @staticmethod\n",
    "    def is_weekday(my_date):\n",
    "        if my_date.weekday() == 5:\n",
    "            print(\"Today {} is Saturday\".format(my_date))\n",
    "        elif my_date.weekday() == 6:\n",
    "            print(\"Today {} is Sunday\".format(my_date))\n",
    "        elif my_date.weekday() == 0:\n",
    "            print(\"Today {} is Monday\".format(my_date))\n",
    "        elif my_date.weekday() == 1:\n",
    "            print(\"Today {} is Tuesday\".format(my_date))\n",
    "        elif my_date.weekday() == 2:\n",
    "            print(\"Today {} is Wednesday\".format(my_date))\n",
    "        elif my_date.weekday() == 3:\n",
    "            print(\"Today {} is Thursday\".format(my_date))\n",
    "        else:\n",
    "            print(\"Today {} is Friday\".format(my_date))\n",
    "\n",
    "# my_date = student.today_date()\n",
    "my_date = date(2020, 5, 17)\n",
    "print(\"Todays date is - {}\".format(my_date))\n",
    "student.is_weekday(my_date)\n",
    "\n",
    "# print(todays_date)\n",
    "# print(todays_date.weekday())"
   ]
  },
  {
   "cell_type": "markdown",
   "metadata": {},
   "source": [
    "## Operator overloading"
   ]
  },
  {
   "cell_type": "code",
   "execution_count": 88,
   "metadata": {},
   "outputs": [
    {
     "ename": "TypeError",
     "evalue": "unsupported operand type(s) for +: 'BookX' and 'BookX'",
     "output_type": "error",
     "traceback": [
      "\u001b[1;31m---------------------------------------------------------------------------\u001b[0m",
      "\u001b[1;31mTypeError\u001b[0m                                 Traceback (most recent call last)",
      "\u001b[1;32m<ipython-input-88-46d9e8ea7e74>\u001b[0m in \u001b[0;36m<module>\u001b[1;34m\u001b[0m\n\u001b[0;32m      7\u001b[0m \u001b[0mb2\u001b[0m \u001b[1;33m=\u001b[0m \u001b[0mBookX\u001b[0m\u001b[1;33m(\u001b[0m\u001b[1;36m150\u001b[0m\u001b[1;33m)\u001b[0m\u001b[1;33m\u001b[0m\u001b[1;33m\u001b[0m\u001b[0m\n\u001b[0;32m      8\u001b[0m \u001b[1;33m\u001b[0m\u001b[0m\n\u001b[1;32m----> 9\u001b[1;33m \u001b[0mprint\u001b[0m\u001b[1;33m(\u001b[0m\u001b[1;34m'Total pages: '\u001b[0m\u001b[1;33m,\u001b[0m \u001b[0mb1\u001b[0m\u001b[1;33m+\u001b[0m\u001b[0mb2\u001b[0m\u001b[1;33m)\u001b[0m\u001b[1;33m\u001b[0m\u001b[1;33m\u001b[0m\u001b[0m\n\u001b[0m",
      "\u001b[1;31mTypeError\u001b[0m: unsupported operand type(s) for +: 'BookX' and 'BookX'"
     ]
    }
   ],
   "source": [
    "# This will throw error as it wont be able to add 2 objects\n",
    "class BookX:\n",
    "    def __init__(self, pages):\n",
    "        self.pages = pages\n",
    "        \n",
    "b1 = BookX(100)\n",
    "b2 = BookX(150)\n",
    "\n",
    "print('Total pages: ', b1+b2)"
   ]
  },
  {
   "cell_type": "code",
   "execution_count": 87,
   "metadata": {},
   "outputs": [
    {
     "name": "stdout",
     "output_type": "stream",
     "text": [
      "b2 is:  <__main__.BookX object at 0x000001530277C518>\n",
      "other is  <__main__.BookX object at 0x000001530277C518>\n",
      "Total pages:  250\n"
     ]
    }
   ],
   "source": [
    "# overloaded '+' operator\n",
    "class BookX:\n",
    "    def __init__(self, pages):\n",
    "        self.pages = pages\n",
    "    \n",
    "    def __add__(self, other):\n",
    "        print(\"other is \", other)\n",
    "        return self.pages + other.pages\n",
    "        \n",
    "b1 = BookX(100)\n",
    "b2 = BookX(150)\n",
    "print(\"b2 is: \", b2)\n",
    "\n",
    "print('Total pages: ', b1+b2)"
   ]
  }
 ],
 "metadata": {
  "kernelspec": {
   "display_name": "Python 3",
   "language": "python",
   "name": "python3"
  },
  "language_info": {
   "codemirror_mode": {
    "name": "ipython",
    "version": 3
   },
   "file_extension": ".py",
   "mimetype": "text/x-python",
   "name": "python",
   "nbconvert_exporter": "python",
   "pygments_lexer": "ipython3",
   "version": "3.6.8"
  }
 },
 "nbformat": 4,
 "nbformat_minor": 4
}
