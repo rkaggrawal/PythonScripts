{
 "cells": [
  {
   "cell_type": "code",
   "execution_count": 29,
   "metadata": {},
   "outputs": [
    {
     "name": "stdout",
     "output_type": "stream",
     "text": [
      "x=10, y=15\n"
     ]
    }
   ],
   "source": [
    "# %i & %d both can be used for decimal integers\n",
    "x, y = 10, 15\n",
    "print('x=%i, y=%d' %(x, y))"
   ]
  },
  {
   "cell_type": "code",
   "execution_count": 31,
   "metadata": {},
   "outputs": [
    {
     "name": "stdout",
     "output_type": "stream",
     "text": [
      "Name is:rahul\n",
      "Name is:     rahul\n",
      "Name is:rahul     \n"
     ]
    }
   ],
   "source": [
    "#print strings using %s\n",
    "name=\"rahul\"\n",
    "print('Name is:%s' %name)\n",
    "print('Name is:%10s' %name) # 10 space before string\n",
    "print('Name is:%-10s' %name) # 10 space after string\n"
   ]
  },
  {
   "cell_type": "code",
   "execution_count": 30,
   "metadata": {},
   "outputs": [
    {
     "name": "stdout",
     "output_type": "stream",
     "text": [
      "the vale is:123.456789\n",
      "the vale is:  123.46\n"
     ]
    }
   ],
   "source": [
    "#print float numbers using %f\n",
    "num = 123.456789\n",
    "print('the vale is:%f' %num)\n",
    "# if we use %8.2f, then the float value is displayed in 8 spaces and within these space, \n",
    "# a decimal point and next two fraction digits. In short lengh of full printed string would be 8.\n",
    "print('the vale is:%8.2f' %num) # upto 2 decimla digit (round-off)"
   ]
  },
  {
   "cell_type": "code",
   "execution_count": 52,
   "metadata": {},
   "outputs": [
    {
     "name": "stdout",
     "output_type": "stream",
     "text": [
      "Hello Ravi, you salary is 12500.75\n",
      "Hello Ravi, you salary is 12500.75\n",
      "Hello 12500.75, you salary is Ravi\n",
      "Hello Ravi, you salary is 12500.750000\n",
      "Hello Ravi, you salary is12500.75\n"
     ]
    }
   ],
   "source": [
    "# use format\n",
    "name, salary = 'Ravi', 12500.75\n",
    "print('Hello {}, you salary is {}'.format(name, salary))\n",
    "print('Hello {n}, you salary is {s}'.format(n=name, s=salary))\n",
    "print('Hello {s}, you salary is {n}'.format(n=name, s=salary)) #changed order\n",
    "print('Hello {:s}, you salary is {:f}'.format(name, salary)) # :s denotes string & :f denotes float, and :d denotes integer\n",
    "print('Hello {:s}, you salary is{:6.2f}'.format(name, salary))"
   ]
  },
  {
   "cell_type": "code",
   "execution_count": null,
   "metadata": {},
   "outputs": [],
   "source": []
  }
 ],
 "metadata": {
  "kernelspec": {
   "display_name": "Python 3",
   "language": "python",
   "name": "python3"
  },
  "language_info": {
   "codemirror_mode": {
    "name": "ipython",
    "version": 3
   },
   "file_extension": ".py",
   "mimetype": "text/x-python",
   "name": "python",
   "nbconvert_exporter": "python",
   "pygments_lexer": "ipython3",
   "version": "3.6.8"
  }
 },
 "nbformat": 4,
 "nbformat_minor": 4
}
