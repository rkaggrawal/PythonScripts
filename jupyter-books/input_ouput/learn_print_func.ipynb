{
 "cells": [
  {
   "cell_type": "code",
   "execution_count": 29,
   "metadata": {},
   "outputs": [
    {
     "name": "stdout",
     "output_type": "stream",
     "text": [
      "x=10, y=15\n"
     ]
    }
   ],
   "source": [
    "# %i & %d both can be used for decimal integers\n",
    "x, y = 10, 15\n",
    "print('x=%i, y=%d' %(x, y))"
   ]
  },
  {
   "cell_type": "code",
   "execution_count": 68,
   "metadata": {},
   "outputs": [
    {
     "name": "stdout",
     "output_type": "stream",
     "text": [
      "Name is:rahul\n",
      "Name is:     rahul\n",
      "Name is:rahul     \n"
     ]
    }
   ],
   "source": [
    "#print strings using %s\n",
    "name=\"rahul\"\n",
    "print('Name is:%s' %name)\n",
    "print('Name is:%10s' %name) # 10 space before string\n",
    "print('Name is:%-10s' %name) # 10 space after string\n"
   ]
  },
  {
   "cell_type": "code",
   "execution_count": 30,
   "metadata": {},
   "outputs": [
    {
     "name": "stdout",
     "output_type": "stream",
     "text": [
      "the vale is:123.456789\n",
      "the vale is:  123.46\n"
     ]
    }
   ],
   "source": [
    "#print float numbers using %f\n",
    "num = 123.456789\n",
    "print('the vale is:%f' %num)\n",
    "# if we use %8.2f, then the float value is displayed in 8 spaces and within these space, \n",
    "# a decimal point and next two fraction digits. In short lengh of full printed string would be 8.\n",
    "print('the vale is:%8.2f' %num) # upto 2 decimla digit (round-off)"
   ]
  },
  {
   "cell_type": "markdown",
   "metadata": {},
   "source": [
    "## format function\n",
    "By default strings are left-justified within the field, \n",
    "and numbers are right-justified. We can modify this by placing an alignment code just following the colon.\n",
    "\n",
    "<   :  left-align text in the field\n",
    "\n",
    "^   :  center text in the field\n",
    "\n",
    "'>'   :  right-align text in the field"
   ]
  },
  {
   "cell_type": "code",
   "execution_count": 9,
   "metadata": {},
   "outputs": [
    {
     "name": "stdout",
     "output_type": "stream",
     "text": [
      "Hello Ravi, you salary is 12500.75\n",
      "Hello Ravi, you salary is 12500.75\n",
      "Hello 12500.75, you salary is Ravi\n",
      "Hello Ravi, you salary is 12500.750000\n",
      "Hello Ravi , you salary is 12500.75\n"
     ]
    }
   ],
   "source": [
    "# use format\n",
    "name, salary = 'Ravi', 12500.75\n",
    "print('Hello {}, you salary is {}'.format(name, salary))\n",
    "print('Hello {n}, you salary is {s}'.format(n=name, s=salary))\n",
    "print('Hello {sly}, you salary is {nm}'.format(nm=name, sly=salary)) #changed order\n",
    "\n",
    "# :s denotes string & :f denotes float, and :d denotes integer\n",
    "print('Hello {:s}, you salary is {:f}'.format(name, salary)) \n",
    "\n",
    "# {:5s}, will Print Ravi and one space after Ravi. So total size would be 5. String are left justfied, so space would be added after string\n",
    "# {:9.2f}, It will print 1 space + 8 lenght number(12500.75). Numbers are righ justified so space would be in left of number.\n",
    "print('Hello {:5s}, you salary is{:9.2f}'.format(name, salary))"
   ]
  },
  {
   "cell_type": "markdown",
   "metadata": {},
   "source": [
    "# Input statements"
   ]
  },
  {
   "cell_type": "code",
   "execution_count": 57,
   "metadata": {},
   "outputs": [
    {
     "name": "stdout",
     "output_type": "stream",
     "text": [
      "Enter a number: abc\n",
      "ERROR is:  invalid literal for int() with base 10: 'abc'\n"
     ]
    }
   ],
   "source": [
    "# int input\n",
    "try:\n",
    "    x = int(input('Enter a number: '))\n",
    "except Exception as e:\n",
    "    print('ERROR is: ', e)\n",
    "else:\n",
    "    print(x)"
   ]
  },
  {
   "cell_type": "code",
   "execution_count": 59,
   "metadata": {},
   "outputs": [
    {
     "name": "stdout",
     "output_type": "stream",
     "text": [
      "Enter a number: abc\n",
      "ERROR is:  could not convert string to float: 'abc'\n"
     ]
    }
   ],
   "source": [
    "# float input\n",
    "try:\n",
    "    x = float(input('Enter a number: '))\n",
    "except Exception as e:\n",
    "    print('ERROR is: ', e)\n",
    "else:\n",
    "    print(x)"
   ]
  },
  {
   "cell_type": "markdown",
   "metadata": {},
   "source": [
    "Eval is used to evaluate expressions. It can perform actions."
   ]
  },
  {
   "cell_type": "code",
   "execution_count": 75,
   "metadata": {},
   "outputs": [
    {
     "name": "stdout",
     "output_type": "stream",
     "text": [
      "a+b\n",
      "15\n"
     ]
    }
   ],
   "source": [
    "a, b = 5, 10\n",
    "print(\"a+b\")\n",
    "print(eval(\"a+b\"))"
   ]
  },
  {
   "cell_type": "code",
   "execution_count": 74,
   "metadata": {},
   "outputs": [
    {
     "name": "stdout",
     "output_type": "stream",
     "text": [
      "Eneter expression:7+10-9\n",
      "7+10-9\n",
      "8\n"
     ]
    }
   ],
   "source": [
    "x = input(\"Eneter expression:\")\n",
    "print(x)\n",
    "print(eval(x))"
   ]
  },
  {
   "cell_type": "code",
   "execution_count": 80,
   "metadata": {},
   "outputs": [
    {
     "name": "stdout",
     "output_type": "stream",
     "text": [
      "This program is being executed by Rahul \n",
      "Square value of 10 is 100\n"
     ]
    }
   ],
   "source": [
    "!python args.py 10 --name Rahul"
   ]
  }
 ],
 "metadata": {
  "kernelspec": {
   "display_name": "Python 3",
   "language": "python",
   "name": "python3"
  },
  "language_info": {
   "codemirror_mode": {
    "name": "ipython",
    "version": 3
   },
   "file_extension": ".py",
   "mimetype": "text/x-python",
   "name": "python",
   "nbconvert_exporter": "python",
   "pygments_lexer": "ipython3",
   "version": "3.6.8"
  }
 },
 "nbformat": 4,
 "nbformat_minor": 4
}
